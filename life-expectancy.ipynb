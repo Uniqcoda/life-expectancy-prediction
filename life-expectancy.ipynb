{
 "cells": [
  {
   "cell_type": "markdown",
   "metadata": {},
   "source": [
    "# Life Expectancy Prediction\n",
    "\n",
    "Report by Mary Etokwudo, Dec 2022\n"
   ]
  },
  {
   "cell_type": "markdown",
   "metadata": {},
   "source": [
    "The World Health Organization (WHO) keeps track of the health status for many countries in the world. The\n",
    "purpose of this challenge is to create an explainable supervised learning model to predict the outcome\n",
    "variable `Life_Expectancy` from other health factors collected in 193 countries of the world by WHO in 2015."
   ]
  },
  {
   "cell_type": "markdown",
   "metadata": {},
   "source": [
    "## 1. Loading data and preliminary analysis\n",
    "\n",
    "Load the file `supervised.csv` in Pandas."
   ]
  },
  {
   "cell_type": "code",
   "execution_count": 1,
   "metadata": {},
   "outputs": [],
   "source": [
    "import pandas as pd\n",
    "import matplotlib.pyplot as plt\n",
    "import seaborn as sns\n",
    "%matplotlib inline"
   ]
  },
  {
   "cell_type": "code",
   "execution_count": 2,
   "metadata": {},
   "outputs": [],
   "source": [
    "# load the dataset\n",
    "df = pd.read_csv('supervised.csv')"
   ]
  },
  {
   "cell_type": "code",
   "execution_count": 3,
   "metadata": {},
   "outputs": [
    {
     "data": {
      "text/html": [
       "<div>\n",
       "<style scoped>\n",
       "    .dataframe tbody tr th:only-of-type {\n",
       "        vertical-align: middle;\n",
       "    }\n",
       "\n",
       "    .dataframe tbody tr th {\n",
       "        vertical-align: top;\n",
       "    }\n",
       "\n",
       "    .dataframe thead th {\n",
       "        text-align: right;\n",
       "    }\n",
       "</style>\n",
       "<table border=\"1\" class=\"dataframe\">\n",
       "  <thead>\n",
       "    <tr style=\"text-align: right;\">\n",
       "      <th></th>\n",
       "      <th>Country</th>\n",
       "      <th>Status</th>\n",
       "      <th>Adult Mortality</th>\n",
       "      <th>infant deaths</th>\n",
       "      <th>percentage expenditure</th>\n",
       "      <th>Hepatitis B</th>\n",
       "      <th>Measles</th>\n",
       "      <th>BMI</th>\n",
       "      <th>under-five deaths</th>\n",
       "      <th>Polio</th>\n",
       "      <th>Diphtheria</th>\n",
       "      <th>HIV/AIDS</th>\n",
       "      <th>GDP</th>\n",
       "      <th>Population</th>\n",
       "      <th>thinness  1-19 years</th>\n",
       "      <th>thinness 5-9 years</th>\n",
       "      <th>Income composition of resources</th>\n",
       "      <th>Schooling</th>\n",
       "      <th>Life_Expectancy</th>\n",
       "    </tr>\n",
       "  </thead>\n",
       "  <tbody>\n",
       "    <tr>\n",
       "      <th>0</th>\n",
       "      <td>Afghanistan</td>\n",
       "      <td>Developing</td>\n",
       "      <td>263</td>\n",
       "      <td>62</td>\n",
       "      <td>71.279624</td>\n",
       "      <td>65</td>\n",
       "      <td>1154</td>\n",
       "      <td>19.1</td>\n",
       "      <td>83</td>\n",
       "      <td>6</td>\n",
       "      <td>65</td>\n",
       "      <td>0.1</td>\n",
       "      <td>584.259210</td>\n",
       "      <td>33736494.0</td>\n",
       "      <td>17.2</td>\n",
       "      <td>17.3</td>\n",
       "      <td>0.479</td>\n",
       "      <td>10.1</td>\n",
       "      <td>65.0</td>\n",
       "    </tr>\n",
       "    <tr>\n",
       "      <th>1</th>\n",
       "      <td>Albania</td>\n",
       "      <td>Developing</td>\n",
       "      <td>74</td>\n",
       "      <td>0</td>\n",
       "      <td>364.975229</td>\n",
       "      <td>99</td>\n",
       "      <td>0</td>\n",
       "      <td>58.0</td>\n",
       "      <td>0</td>\n",
       "      <td>99</td>\n",
       "      <td>99</td>\n",
       "      <td>0.1</td>\n",
       "      <td>3954.227830</td>\n",
       "      <td>28873.0</td>\n",
       "      <td>1.2</td>\n",
       "      <td>1.3</td>\n",
       "      <td>0.762</td>\n",
       "      <td>14.2</td>\n",
       "      <td>77.8</td>\n",
       "    </tr>\n",
       "    <tr>\n",
       "      <th>2</th>\n",
       "      <td>Algeria</td>\n",
       "      <td>Developing</td>\n",
       "      <td>19</td>\n",
       "      <td>21</td>\n",
       "      <td>0.000000</td>\n",
       "      <td>95</td>\n",
       "      <td>63</td>\n",
       "      <td>59.5</td>\n",
       "      <td>24</td>\n",
       "      <td>95</td>\n",
       "      <td>95</td>\n",
       "      <td>0.1</td>\n",
       "      <td>4132.762920</td>\n",
       "      <td>39871528.0</td>\n",
       "      <td>6.0</td>\n",
       "      <td>5.8</td>\n",
       "      <td>0.743</td>\n",
       "      <td>14.4</td>\n",
       "      <td>75.6</td>\n",
       "    </tr>\n",
       "    <tr>\n",
       "      <th>3</th>\n",
       "      <td>Angola</td>\n",
       "      <td>Developing</td>\n",
       "      <td>335</td>\n",
       "      <td>66</td>\n",
       "      <td>0.000000</td>\n",
       "      <td>64</td>\n",
       "      <td>118</td>\n",
       "      <td>23.3</td>\n",
       "      <td>98</td>\n",
       "      <td>7</td>\n",
       "      <td>64</td>\n",
       "      <td>1.9</td>\n",
       "      <td>3695.793748</td>\n",
       "      <td>2785935.0</td>\n",
       "      <td>8.3</td>\n",
       "      <td>8.2</td>\n",
       "      <td>0.531</td>\n",
       "      <td>11.4</td>\n",
       "      <td>52.4</td>\n",
       "    </tr>\n",
       "    <tr>\n",
       "      <th>4</th>\n",
       "      <td>Argentina</td>\n",
       "      <td>Developing</td>\n",
       "      <td>116</td>\n",
       "      <td>8</td>\n",
       "      <td>0.000000</td>\n",
       "      <td>94</td>\n",
       "      <td>0</td>\n",
       "      <td>62.8</td>\n",
       "      <td>9</td>\n",
       "      <td>93</td>\n",
       "      <td>94</td>\n",
       "      <td>0.1</td>\n",
       "      <td>13467.123600</td>\n",
       "      <td>43417765.0</td>\n",
       "      <td>1.0</td>\n",
       "      <td>0.9</td>\n",
       "      <td>0.826</td>\n",
       "      <td>17.3</td>\n",
       "      <td>76.3</td>\n",
       "    </tr>\n",
       "  </tbody>\n",
       "</table>\n",
       "</div>"
      ],
      "text/plain": [
       "       Country      Status  Adult Mortality  infant deaths  \\\n",
       "0  Afghanistan  Developing              263             62   \n",
       "1      Albania  Developing               74              0   \n",
       "2      Algeria  Developing               19             21   \n",
       "3       Angola  Developing              335             66   \n",
       "4    Argentina  Developing              116              8   \n",
       "\n",
       "   percentage expenditure  Hepatitis B  Measles   BMI  under-five deaths  \\\n",
       "0               71.279624           65     1154  19.1                 83   \n",
       "1              364.975229           99        0  58.0                  0   \n",
       "2                0.000000           95       63  59.5                 24   \n",
       "3                0.000000           64      118  23.3                 98   \n",
       "4                0.000000           94        0  62.8                  9   \n",
       "\n",
       "   Polio  Diphtheria  HIV/AIDS           GDP  Population  \\\n",
       "0      6          65       0.1    584.259210  33736494.0   \n",
       "1     99          99       0.1   3954.227830     28873.0   \n",
       "2     95          95       0.1   4132.762920  39871528.0   \n",
       "3      7          64       1.9   3695.793748   2785935.0   \n",
       "4     93          94       0.1  13467.123600  43417765.0   \n",
       "\n",
       "   thinness  1-19 years  thinness 5-9 years  Income composition of resources  \\\n",
       "0                  17.2                17.3                            0.479   \n",
       "1                   1.2                 1.3                            0.762   \n",
       "2                   6.0                 5.8                            0.743   \n",
       "3                   8.3                 8.2                            0.531   \n",
       "4                   1.0                 0.9                            0.826   \n",
       "\n",
       "   Schooling  Life_Expectancy  \n",
       "0       10.1             65.0  \n",
       "1       14.2             77.8  \n",
       "2       14.4             75.6  \n",
       "3       11.4             52.4  \n",
       "4       17.3             76.3  "
      ]
     },
     "execution_count": 3,
     "metadata": {},
     "output_type": "execute_result"
    }
   ],
   "source": [
    "# view some data from the dataset\n",
    "df.head()"
   ]
  },
  {
   "cell_type": "markdown",
   "metadata": {},
   "source": [
    "### 1.1. Checking the target"
   ]
  },
  {
   "cell_type": "markdown",
   "metadata": {},
   "source": [
    "**Examine the target attribute**"
   ]
  },
  {
   "cell_type": "code",
   "execution_count": 4,
   "metadata": {},
   "outputs": [
    {
     "name": "stdout",
     "output_type": "stream",
     "text": [
      "<class 'pandas.core.frame.DataFrame'>\n",
      "RangeIndex: 130 entries, 0 to 129\n",
      "Data columns (total 1 columns):\n",
      " #   Column           Non-Null Count  Dtype  \n",
      "---  ------           --------------  -----  \n",
      " 0   Life_Expectancy  130 non-null    float64\n",
      "dtypes: float64(1)\n",
      "memory usage: 1.1 KB\n"
     ]
    }
   ],
   "source": [
    "# create a series of the target attribute\n",
    "y = df['Life_Expectancy']\n",
    "\n",
    "# create dataframe of y\n",
    "y_df = df[['Life_Expectancy']]\n",
    "# eamine the dataframe\n",
    "y_df.info()"
   ]
  },
  {
   "cell_type": "markdown",
   "metadata": {},
   "source": [
    "**Discuss whether the target attribute is numerical or nominal.**  \n",
    "The target attribute `Life_Expectancy` is numerical."
   ]
  },
  {
   "cell_type": "markdown",
   "metadata": {},
   "source": [
    "**Discuss whether the supervised problem is a classification or a regression task.**  \n",
    "Since the target attribute is numerical, the supervised learning problem is a regression task."
   ]
  },
  {
   "cell_type": "markdown",
   "metadata": {},
   "source": [
    "**If the target is numerical, discuss its frequency distribution.**  \n",
    "Using matplotlib histogram `hist` plot"
   ]
  },
  {
   "cell_type": "code",
   "execution_count": 5,
   "metadata": {},
   "outputs": [
    {
     "data": {
      "image/png": "[encoded data removed]",
      "text/plain": [
       "<Figure size 432x288 with 1 Axes>"
      ]
     },
     "metadata": {
      "needs_background": "light"
     },
     "output_type": "display_data"
    }
   ],
   "source": [
    "plt.hist(y_df['Life_Expectancy'], bins=20);\n",
    "\n",
    "plt.xlabel('Life Expectancy')\n",
    "plt.ylabel('Frequency')\n",
    "plt.title('Frequency Distribution of Life Expectancy')\n",
    "plt.grid(True)\n",
    "plt.show()"
   ]
  },
  {
   "cell_type": "markdown",
   "metadata": {},
   "source": [
    "The frequency chart above shows that the most frequent values are around 75 (between 74 and 76), having a frequency as high as 20."
   ]
  },
  {
   "cell_type": "markdown",
   "metadata": {},
   "source": [
    "### 1.2. Checking the features "
   ]
  },
  {
   "cell_type": "markdown",
   "metadata": {},
   "source": [
    "**After removing the target, all remaining attributes are your features (independent variables).**"
   ]
  },
  {
   "cell_type": "code",
   "execution_count": 6,
   "metadata": {},
   "outputs": [],
   "source": [
    "X = df.drop(['Life_Expectancy'], axis=1)"
   ]
  },
  {
   "cell_type": "code",
   "execution_count": 7,
   "metadata": {},
   "outputs": [
    {
     "data": {
      "text/html": [
       "<div>\n",
       "<style scoped>\n",
       "    .dataframe tbody tr th:only-of-type {\n",
       "        vertical-align: middle;\n",
       "    }\n",
       "\n",
       "    .dataframe tbody tr th {\n",
       "        vertical-align: top;\n",
       "    }\n",
       "\n",
       "    .dataframe thead th {\n",
       "        text-align: right;\n",
       "    }\n",
       "</style>\n",
       "<table border=\"1\" class=\"dataframe\">\n",
       "  <thead>\n",
       "    <tr style=\"text-align: right;\">\n",
       "      <th></th>\n",
       "      <th>Country</th>\n",
       "      <th>Status</th>\n",
       "      <th>Adult Mortality</th>\n",
       "      <th>infant deaths</th>\n",
       "      <th>percentage expenditure</th>\n",
       "      <th>Hepatitis B</th>\n",
       "      <th>Measles</th>\n",
       "      <th>BMI</th>\n",
       "      <th>under-five deaths</th>\n",
       "      <th>Polio</th>\n",
       "      <th>Diphtheria</th>\n",
       "      <th>HIV/AIDS</th>\n",
       "      <th>GDP</th>\n",
       "      <th>Population</th>\n",
       "      <th>thinness  1-19 years</th>\n",
       "      <th>thinness 5-9 years</th>\n",
       "      <th>Income composition of resources</th>\n",
       "      <th>Schooling</th>\n",
       "    </tr>\n",
       "  </thead>\n",
       "  <tbody>\n",
       "    <tr>\n",
       "      <th>0</th>\n",
       "      <td>Afghanistan</td>\n",
       "      <td>Developing</td>\n",
       "      <td>263</td>\n",
       "      <td>62</td>\n",
       "      <td>71.279624</td>\n",
       "      <td>65</td>\n",
       "      <td>1154</td>\n",
       "      <td>19.1</td>\n",
       "      <td>83</td>\n",
       "      <td>6</td>\n",
       "      <td>65</td>\n",
       "      <td>0.1</td>\n",
       "      <td>584.259210</td>\n",
       "      <td>33736494.0</td>\n",
       "      <td>17.2</td>\n",
       "      <td>17.3</td>\n",
       "      <td>0.479</td>\n",
       "      <td>10.1</td>\n",
       "    </tr>\n",
       "    <tr>\n",
       "      <th>1</th>\n",
       "      <td>Albania</td>\n",
       "      <td>Developing</td>\n",
       "      <td>74</td>\n",
       "      <td>0</td>\n",
       "      <td>364.975229</td>\n",
       "      <td>99</td>\n",
       "      <td>0</td>\n",
       "      <td>58.0</td>\n",
       "      <td>0</td>\n",
       "      <td>99</td>\n",
       "      <td>99</td>\n",
       "      <td>0.1</td>\n",
       "      <td>3954.227830</td>\n",
       "      <td>28873.0</td>\n",
       "      <td>1.2</td>\n",
       "      <td>1.3</td>\n",
       "      <td>0.762</td>\n",
       "      <td>14.2</td>\n",
       "    </tr>\n",
       "    <tr>\n",
       "      <th>2</th>\n",
       "      <td>Algeria</td>\n",
       "      <td>Developing</td>\n",
       "      <td>19</td>\n",
       "      <td>21</td>\n",
       "      <td>0.000000</td>\n",
       "      <td>95</td>\n",
       "      <td>63</td>\n",
       "      <td>59.5</td>\n",
       "      <td>24</td>\n",
       "      <td>95</td>\n",
       "      <td>95</td>\n",
       "      <td>0.1</td>\n",
       "      <td>4132.762920</td>\n",
       "      <td>39871528.0</td>\n",
       "      <td>6.0</td>\n",
       "      <td>5.8</td>\n",
       "      <td>0.743</td>\n",
       "      <td>14.4</td>\n",
       "    </tr>\n",
       "    <tr>\n",
       "      <th>3</th>\n",
       "      <td>Angola</td>\n",
       "      <td>Developing</td>\n",
       "      <td>335</td>\n",
       "      <td>66</td>\n",
       "      <td>0.000000</td>\n",
       "      <td>64</td>\n",
       "      <td>118</td>\n",
       "      <td>23.3</td>\n",
       "      <td>98</td>\n",
       "      <td>7</td>\n",
       "      <td>64</td>\n",
       "      <td>1.9</td>\n",
       "      <td>3695.793748</td>\n",
       "      <td>2785935.0</td>\n",
       "      <td>8.3</td>\n",
       "      <td>8.2</td>\n",
       "      <td>0.531</td>\n",
       "      <td>11.4</td>\n",
       "    </tr>\n",
       "    <tr>\n",
       "      <th>4</th>\n",
       "      <td>Argentina</td>\n",
       "      <td>Developing</td>\n",
       "      <td>116</td>\n",
       "      <td>8</td>\n",
       "      <td>0.000000</td>\n",
       "      <td>94</td>\n",
       "      <td>0</td>\n",
       "      <td>62.8</td>\n",
       "      <td>9</td>\n",
       "      <td>93</td>\n",
       "      <td>94</td>\n",
       "      <td>0.1</td>\n",
       "      <td>13467.123600</td>\n",
       "      <td>43417765.0</td>\n",
       "      <td>1.0</td>\n",
       "      <td>0.9</td>\n",
       "      <td>0.826</td>\n",
       "      <td>17.3</td>\n",
       "    </tr>\n",
       "  </tbody>\n",
       "</table>\n",
       "</div>"
      ],
      "text/plain": [
       "       Country      Status  Adult Mortality  infant deaths  \\\n",
       "0  Afghanistan  Developing              263             62   \n",
       "1      Albania  Developing               74              0   \n",
       "2      Algeria  Developing               19             21   \n",
       "3       Angola  Developing              335             66   \n",
       "4    Argentina  Developing              116              8   \n",
       "\n",
       "   percentage expenditure  Hepatitis B  Measles   BMI  under-five deaths  \\\n",
       "0               71.279624           65     1154  19.1                 83   \n",
       "1              364.975229           99        0  58.0                  0   \n",
       "2                0.000000           95       63  59.5                 24   \n",
       "3                0.000000           64      118  23.3                 98   \n",
       "4                0.000000           94        0  62.8                  9   \n",
       "\n",
       "   Polio  Diphtheria  HIV/AIDS           GDP  Population  \\\n",
       "0      6          65       0.1    584.259210  33736494.0   \n",
       "1     99          99       0.1   3954.227830     28873.0   \n",
       "2     95          95       0.1   4132.762920  39871528.0   \n",
       "3      7          64       1.9   3695.793748   2785935.0   \n",
       "4     93          94       0.1  13467.123600  43417765.0   \n",
       "\n",
       "   thinness  1-19 years  thinness 5-9 years  Income composition of resources  \\\n",
       "0                  17.2                17.3                            0.479   \n",
       "1                   1.2                 1.3                            0.762   \n",
       "2                   6.0                 5.8                            0.743   \n",
       "3                   8.3                 8.2                            0.531   \n",
       "4                   1.0                 0.9                            0.826   \n",
       "\n",
       "   Schooling  \n",
       "0       10.1  \n",
       "1       14.2  \n",
       "2       14.4  \n",
       "3       11.4  \n",
       "4       17.3  "
      ]
     },
     "execution_count": 7,
     "metadata": {},
     "output_type": "execute_result"
    }
   ],
   "source": [
    "X.head()"
   ]
  },
  {
   "cell_type": "markdown",
   "metadata": {},
   "source": [
    "**Discuss the shape of the feature data, how many rows and columns does it contain?**"
   ]
  },
  {
   "cell_type": "code",
   "execution_count": 8,
   "metadata": {},
   "outputs": [
    {
     "data": {
      "text/plain": [
       "(130, 18)"
      ]
     },
     "execution_count": 8,
     "metadata": {},
     "output_type": "execute_result"
    }
   ],
   "source": [
    "X.shape"
   ]
  },
  {
   "cell_type": "markdown",
   "metadata": {},
   "source": [
    "Before checking if the features are standardised, I would like to drop the columns that are not relevant to the modelling and also convert categorical features to numeric."
   ]
  },
  {
   "cell_type": "markdown",
   "metadata": {},
   "source": [
    "**Dropping irrelevant columns**"
   ]
  },
  {
   "cell_type": "code",
   "execution_count": 9,
   "metadata": {
    "scrolled": true
   },
   "outputs": [
    {
     "name": "stdout",
     "output_type": "stream",
     "text": [
      "<class 'pandas.core.frame.DataFrame'>\n",
      "RangeIndex: 130 entries, 0 to 129\n",
      "Data columns (total 18 columns):\n",
      " #   Column                           Non-Null Count  Dtype  \n",
      "---  ------                           --------------  -----  \n",
      " 0   Country                          130 non-null    object \n",
      " 1   Status                           130 non-null    object \n",
      " 2   Adult Mortality                  130 non-null    int64  \n",
      " 3   infant deaths                    130 non-null    int64  \n",
      " 4   percentage expenditure           130 non-null    float64\n",
      " 5   Hepatitis B                      130 non-null    int64  \n",
      " 6   Measles                          130 non-null    int64  \n",
      " 7   BMI                              130 non-null    float64\n",
      " 8   under-five deaths                130 non-null    int64  \n",
      " 9   Polio                            130 non-null    int64  \n",
      " 10  Diphtheria                       130 non-null    int64  \n",
      " 11  HIV/AIDS                         130 non-null    float64\n",
      " 12  GDP                              130 non-null    float64\n",
      " 13  Population                       130 non-null    float64\n",
      " 14  thinness  1-19 years             130 non-null    float64\n",
      " 15  thinness 5-9 years               130 non-null    float64\n",
      " 16  Income composition of resources  130 non-null    float64\n",
      " 17  Schooling                        130 non-null    float64\n",
      "dtypes: float64(9), int64(7), object(2)\n",
      "memory usage: 18.4+ KB\n"
     ]
    }
   ],
   "source": [
    "X.info()"
   ]
  },
  {
   "cell_type": "markdown",
   "metadata": {},
   "source": [
    "The `Country` column does not seem to have any role to play other than being an index or an identifier. Also, it is a categorical feature which would not be needed in a regression model. Therefore, it will be dropped."
   ]
  },
  {
   "cell_type": "markdown",
   "metadata": {},
   "source": [
    "Also, `percentage expenditure` has just two values asides zero. This is just for 2 rows out of 130. This makes the feature unuseful for analysis and modelling. Let's check if there are other columns that have high number of zeros."
   ]
  },
  {
   "cell_type": "code",
   "execution_count": 10,
   "metadata": {},
   "outputs": [
    {
     "name": "stdout",
     "output_type": "stream",
     "text": [
      "Count of non zeros in each column\n",
      "Country - 130\n",
      "Status - 130\n",
      "Adult Mortality - 130\n",
      "infant deaths - 94\n",
      "percentage expenditure - 2\n",
      "Hepatitis B - 130\n",
      "Measles - 85\n",
      "BMI - 130\n",
      "under-five deaths - 98\n",
      "Polio - 130\n",
      "Diphtheria - 130\n",
      "HIV/AIDS - 130\n",
      "GDP - 130\n",
      "Population - 130\n",
      "thinness  1-19 years - 130\n",
      "thinness 5-9 years - 130\n",
      "Income composition of resources - 130\n",
      "Schooling - 130\n"
     ]
    }
   ],
   "source": [
    "#  Get the count of all non zero values in each column\n",
    "print('Count of non zeros in each column')\n",
    "for column_name in X.columns:\n",
    "    column = X[column_name]\n",
    "    count_of_non_zeros = (column != 0).sum()\n",
    "    print(column_name, '-', count_of_non_zeros)"
   ]
  },
  {
   "cell_type": "markdown",
   "metadata": {},
   "source": [
    "The `percentage expenditure` feature has just 2 non-zero values, out of 130 observations. Zero values can mean missing values in this case. This will badly affect our modelling."
   ]
  },
  {
   "cell_type": "code",
   "execution_count": 11,
   "metadata": {},
   "outputs": [
    {
     "data": {
      "text/plain": [
       "array([ 71.27962362, 364.9752287 ,   0.        ])"
      ]
     },
     "execution_count": 11,
     "metadata": {},
     "output_type": "execute_result"
    }
   ],
   "source": [
    "X['percentage expenditure'].unique()"
   ]
  },
  {
   "cell_type": "code",
   "execution_count": 12,
   "metadata": {},
   "outputs": [],
   "source": [
    "# drop the 'percentage expenditure' and 'Country' columns\n",
    "X.drop(['percentage expenditure', 'Country'], axis = 1, inplace = True) "
   ]
  },
  {
   "cell_type": "markdown",
   "metadata": {},
   "source": [
    "**Transforming non-numerical feature into numerical**"
   ]
  },
  {
   "cell_type": "markdown",
   "metadata": {},
   "source": [
    "Regression requires all the independent variables to be numeric. The dataset has one categorical variable `Status` which can be converted to a numerical variable."
   ]
  },
  {
   "cell_type": "markdown",
   "metadata": {},
   "source": [
    "The `Status` feature has two categorical values which are 'Developing' and 'Developed'. These values can be represented as numerical values 0 and 1."
   ]
  },
  {
   "cell_type": "code",
   "execution_count": 13,
   "metadata": {},
   "outputs": [
    {
     "data": {
      "text/plain": [
       "array(['Developing', 'Developed'], dtype=object)"
      ]
     },
     "execution_count": 13,
     "metadata": {},
     "output_type": "execute_result"
    }
   ],
   "source": [
    "status_values = X['Status'].unique()\n",
    "status_values"
   ]
  },
  {
   "cell_type": "markdown",
   "metadata": {},
   "source": [
    "Using the `LabelEncoder` method of sklearn. Since there are just two `Status` values, the result will be 0 and 1."
   ]
  },
  {
   "cell_type": "code",
   "execution_count": 14,
   "metadata": {},
   "outputs": [],
   "source": [
    "from sklearn.preprocessing import LabelEncoder"
   ]
  },
  {
   "cell_type": "code",
   "execution_count": 15,
   "metadata": {},
   "outputs": [],
   "source": [
    "number = LabelEncoder()"
   ]
  },
  {
   "cell_type": "code",
   "execution_count": 16,
   "metadata": {},
   "outputs": [],
   "source": [
    "X['Status'] = number.fit_transform(X['Status'].astype('str'))"
   ]
  },
  {
   "cell_type": "code",
   "execution_count": 17,
   "metadata": {},
   "outputs": [
    {
     "data": {
      "text/html": [
       "<div>\n",
       "<style scoped>\n",
       "    .dataframe tbody tr th:only-of-type {\n",
       "        vertical-align: middle;\n",
       "    }\n",
       "\n",
       "    .dataframe tbody tr th {\n",
       "        vertical-align: top;\n",
       "    }\n",
       "\n",
       "    .dataframe thead th {\n",
       "        text-align: right;\n",
       "    }\n",
       "</style>\n",
       "<table border=\"1\" class=\"dataframe\">\n",
       "  <thead>\n",
       "    <tr style=\"text-align: right;\">\n",
       "      <th></th>\n",
       "      <th>Status</th>\n",
       "      <th>Adult Mortality</th>\n",
       "      <th>infant deaths</th>\n",
       "      <th>Hepatitis B</th>\n",
       "      <th>Measles</th>\n",
       "      <th>BMI</th>\n",
       "      <th>under-five deaths</th>\n",
       "      <th>Polio</th>\n",
       "      <th>Diphtheria</th>\n",
       "      <th>HIV/AIDS</th>\n",
       "      <th>GDP</th>\n",
       "      <th>Population</th>\n",
       "      <th>thinness  1-19 years</th>\n",
       "      <th>thinness 5-9 years</th>\n",
       "      <th>Income composition of resources</th>\n",
       "      <th>Schooling</th>\n",
       "    </tr>\n",
       "  </thead>\n",
       "  <tbody>\n",
       "    <tr>\n",
       "      <th>0</th>\n",
       "      <td>1</td>\n",
       "      <td>263</td>\n",
       "      <td>62</td>\n",
       "      <td>65</td>\n",
       "      <td>1154</td>\n",
       "      <td>19.1</td>\n",
       "      <td>83</td>\n",
       "      <td>6</td>\n",
       "      <td>65</td>\n",
       "      <td>0.1</td>\n",
       "      <td>584.259210</td>\n",
       "      <td>33736494.0</td>\n",
       "      <td>17.2</td>\n",
       "      <td>17.3</td>\n",
       "      <td>0.479</td>\n",
       "      <td>10.1</td>\n",
       "    </tr>\n",
       "    <tr>\n",
       "      <th>1</th>\n",
       "      <td>1</td>\n",
       "      <td>74</td>\n",
       "      <td>0</td>\n",
       "      <td>99</td>\n",
       "      <td>0</td>\n",
       "      <td>58.0</td>\n",
       "      <td>0</td>\n",
       "      <td>99</td>\n",
       "      <td>99</td>\n",
       "      <td>0.1</td>\n",
       "      <td>3954.227830</td>\n",
       "      <td>28873.0</td>\n",
       "      <td>1.2</td>\n",
       "      <td>1.3</td>\n",
       "      <td>0.762</td>\n",
       "      <td>14.2</td>\n",
       "    </tr>\n",
       "    <tr>\n",
       "      <th>2</th>\n",
       "      <td>1</td>\n",
       "      <td>19</td>\n",
       "      <td>21</td>\n",
       "      <td>95</td>\n",
       "      <td>63</td>\n",
       "      <td>59.5</td>\n",
       "      <td>24</td>\n",
       "      <td>95</td>\n",
       "      <td>95</td>\n",
       "      <td>0.1</td>\n",
       "      <td>4132.762920</td>\n",
       "      <td>39871528.0</td>\n",
       "      <td>6.0</td>\n",
       "      <td>5.8</td>\n",
       "      <td>0.743</td>\n",
       "      <td>14.4</td>\n",
       "    </tr>\n",
       "    <tr>\n",
       "      <th>3</th>\n",
       "      <td>1</td>\n",
       "      <td>335</td>\n",
       "      <td>66</td>\n",
       "      <td>64</td>\n",
       "      <td>118</td>\n",
       "      <td>23.3</td>\n",
       "      <td>98</td>\n",
       "      <td>7</td>\n",
       "      <td>64</td>\n",
       "      <td>1.9</td>\n",
       "      <td>3695.793748</td>\n",
       "      <td>2785935.0</td>\n",
       "      <td>8.3</td>\n",
       "      <td>8.2</td>\n",
       "      <td>0.531</td>\n",
       "      <td>11.4</td>\n",
       "    </tr>\n",
       "    <tr>\n",
       "      <th>4</th>\n",
       "      <td>1</td>\n",
       "      <td>116</td>\n",
       "      <td>8</td>\n",
       "      <td>94</td>\n",
       "      <td>0</td>\n",
       "      <td>62.8</td>\n",
       "      <td>9</td>\n",
       "      <td>93</td>\n",
       "      <td>94</td>\n",
       "      <td>0.1</td>\n",
       "      <td>13467.123600</td>\n",
       "      <td>43417765.0</td>\n",
       "      <td>1.0</td>\n",
       "      <td>0.9</td>\n",
       "      <td>0.826</td>\n",
       "      <td>17.3</td>\n",
       "    </tr>\n",
       "  </tbody>\n",
       "</table>\n",
       "</div>"
      ],
      "text/plain": [
       "   Status  Adult Mortality  infant deaths  Hepatitis B  Measles   BMI  \\\n",
       "0       1              263             62           65     1154  19.1   \n",
       "1       1               74              0           99        0  58.0   \n",
       "2       1               19             21           95       63  59.5   \n",
       "3       1              335             66           64      118  23.3   \n",
       "4       1              116              8           94        0  62.8   \n",
       "\n",
       "   under-five deaths  Polio  Diphtheria  HIV/AIDS           GDP  Population  \\\n",
       "0                 83      6          65       0.1    584.259210  33736494.0   \n",
       "1                  0     99          99       0.1   3954.227830     28873.0   \n",
       "2                 24     95          95       0.1   4132.762920  39871528.0   \n",
       "3                 98      7          64       1.9   3695.793748   2785935.0   \n",
       "4                  9     93          94       0.1  13467.123600  43417765.0   \n",
       "\n",
       "   thinness  1-19 years  thinness 5-9 years  Income composition of resources  \\\n",
       "0                  17.2                17.3                            0.479   \n",
       "1                   1.2                 1.3                            0.762   \n",
       "2                   6.0                 5.8                            0.743   \n",
       "3                   8.3                 8.2                            0.531   \n",
       "4                   1.0                 0.9                            0.826   \n",
       "\n",
       "   Schooling  \n",
       "0       10.1  \n",
       "1       14.2  \n",
       "2       14.4  \n",
       "3       11.4  \n",
       "4       17.3  "
      ]
     },
     "execution_count": 17,
     "metadata": {},
     "output_type": "execute_result"
    }
   ],
   "source": [
    "X.head()"
   ]
  },
  {
   "cell_type": "markdown",
   "metadata": {},
   "source": [
    "The LabelEncoder transformed 'Developing' to 1 and 'Developed' to 0."
   ]
  },
  {
   "cell_type": "code",
   "execution_count": 18,
   "metadata": {
    "scrolled": false
   },
   "outputs": [
    {
     "name": "stdout",
     "output_type": "stream",
     "text": [
      "<class 'pandas.core.frame.DataFrame'>\n",
      "RangeIndex: 130 entries, 0 to 129\n",
      "Data columns (total 16 columns):\n",
      " #   Column                           Non-Null Count  Dtype  \n",
      "---  ------                           --------------  -----  \n",
      " 0   Status                           130 non-null    int64  \n",
      " 1   Adult Mortality                  130 non-null    int64  \n",
      " 2   infant deaths                    130 non-null    int64  \n",
      " 3   Hepatitis B                      130 non-null    int64  \n",
      " 4   Measles                          130 non-null    int64  \n",
      " 5   BMI                              130 non-null    float64\n",
      " 6   under-five deaths                130 non-null    int64  \n",
      " 7   Polio                            130 non-null    int64  \n",
      " 8   Diphtheria                       130 non-null    int64  \n",
      " 9   HIV/AIDS                         130 non-null    float64\n",
      " 10  GDP                              130 non-null    float64\n",
      " 11  Population                       130 non-null    float64\n",
      " 12  thinness  1-19 years             130 non-null    float64\n",
      " 13  thinness 5-9 years               130 non-null    float64\n",
      " 14  Income composition of resources  130 non-null    float64\n",
      " 15  Schooling                        130 non-null    float64\n",
      "dtypes: float64(8), int64(8)\n",
      "memory usage: 16.4 KB\n"
     ]
    }
   ],
   "source": [
    "X.info()"
   ]
  },
  {
   "cell_type": "markdown",
   "metadata": {},
   "source": [
    "Now all the independent features are numeric"
   ]
  },
  {
   "cell_type": "code",
   "execution_count": 19,
   "metadata": {},
   "outputs": [
    {
     "data": {
      "text/plain": [
       "(130, 16)"
      ]
     },
     "execution_count": 19,
     "metadata": {},
     "output_type": "execute_result"
    }
   ],
   "source": [
    "X.shape"
   ]
  },
  {
   "cell_type": "markdown",
   "metadata": {},
   "source": [
    "The feature data now has 130 rows and 16 columns."
   ]
  },
  {
   "cell_type": "markdown",
   "metadata": {},
   "source": [
    "**Discuss whether features are standardised.**"
   ]
  },
  {
   "cell_type": "code",
   "execution_count": 20,
   "metadata": {},
   "outputs": [
    {
     "data": {
      "text/html": [
       "<div>\n",
       "<style scoped>\n",
       "    .dataframe tbody tr th:only-of-type {\n",
       "        vertical-align: middle;\n",
       "    }\n",
       "\n",
       "    .dataframe tbody tr th {\n",
       "        vertical-align: top;\n",
       "    }\n",
       "\n",
       "    .dataframe thead th {\n",
       "        text-align: right;\n",
       "    }\n",
       "</style>\n",
       "<table border=\"1\" class=\"dataframe\">\n",
       "  <thead>\n",
       "    <tr style=\"text-align: right;\">\n",
       "      <th></th>\n",
       "      <th>Status</th>\n",
       "      <th>Adult Mortality</th>\n",
       "      <th>infant deaths</th>\n",
       "      <th>Hepatitis B</th>\n",
       "      <th>Measles</th>\n",
       "      <th>BMI</th>\n",
       "      <th>under-five deaths</th>\n",
       "      <th>Polio</th>\n",
       "      <th>Diphtheria</th>\n",
       "      <th>HIV/AIDS</th>\n",
       "      <th>GDP</th>\n",
       "      <th>Population</th>\n",
       "      <th>thinness  1-19 years</th>\n",
       "      <th>thinness 5-9 years</th>\n",
       "      <th>Income composition of resources</th>\n",
       "      <th>Schooling</th>\n",
       "    </tr>\n",
       "  </thead>\n",
       "  <tbody>\n",
       "    <tr>\n",
       "      <th>count</th>\n",
       "      <td>130.000000</td>\n",
       "      <td>130.000000</td>\n",
       "      <td>130.000000</td>\n",
       "      <td>130.000000</td>\n",
       "      <td>130.000000</td>\n",
       "      <td>130.000000</td>\n",
       "      <td>130.000000</td>\n",
       "      <td>130.000000</td>\n",
       "      <td>130.000000</td>\n",
       "      <td>130.000000</td>\n",
       "      <td>130.000000</td>\n",
       "      <td>1.300000e+02</td>\n",
       "      <td>130.000000</td>\n",
       "      <td>130.000000</td>\n",
       "      <td>130.000000</td>\n",
       "      <td>130.000000</td>\n",
       "    </tr>\n",
       "    <tr>\n",
       "      <th>mean</th>\n",
       "      <td>0.853846</td>\n",
       "      <td>158.676923</td>\n",
       "      <td>27.723077</td>\n",
       "      <td>80.653846</td>\n",
       "      <td>1773.315385</td>\n",
       "      <td>40.533077</td>\n",
       "      <td>36.761538</td>\n",
       "      <td>81.123077</td>\n",
       "      <td>82.846154</td>\n",
       "      <td>0.785385</td>\n",
       "      <td>5997.928670</td>\n",
       "      <td>1.163121e+07</td>\n",
       "      <td>4.680769</td>\n",
       "      <td>4.780769</td>\n",
       "      <td>0.674792</td>\n",
       "      <td>12.746923</td>\n",
       "    </tr>\n",
       "    <tr>\n",
       "      <th>std</th>\n",
       "      <td>0.354627</td>\n",
       "      <td>99.484969</td>\n",
       "      <td>96.426702</td>\n",
       "      <td>24.992933</td>\n",
       "      <td>9130.704172</td>\n",
       "      <td>21.196345</td>\n",
       "      <td>123.951904</td>\n",
       "      <td>25.435133</td>\n",
       "      <td>23.289370</td>\n",
       "      <td>1.520206</td>\n",
       "      <td>10101.952401</td>\n",
       "      <td>3.017667e+07</td>\n",
       "      <td>4.380632</td>\n",
       "      <td>4.477144</td>\n",
       "      <td>0.151216</td>\n",
       "      <td>2.760159</td>\n",
       "    </tr>\n",
       "    <tr>\n",
       "      <th>min</th>\n",
       "      <td>0.000000</td>\n",
       "      <td>1.000000</td>\n",
       "      <td>0.000000</td>\n",
       "      <td>6.000000</td>\n",
       "      <td>0.000000</td>\n",
       "      <td>2.500000</td>\n",
       "      <td>0.000000</td>\n",
       "      <td>6.000000</td>\n",
       "      <td>6.000000</td>\n",
       "      <td>0.100000</td>\n",
       "      <td>33.681223</td>\n",
       "      <td>2.966000e+03</td>\n",
       "      <td>0.100000</td>\n",
       "      <td>0.100000</td>\n",
       "      <td>0.347000</td>\n",
       "      <td>5.400000</td>\n",
       "    </tr>\n",
       "    <tr>\n",
       "      <th>25%</th>\n",
       "      <td>1.000000</td>\n",
       "      <td>79.000000</td>\n",
       "      <td>0.000000</td>\n",
       "      <td>77.250000</td>\n",
       "      <td>0.000000</td>\n",
       "      <td>23.325000</td>\n",
       "      <td>1.000000</td>\n",
       "      <td>78.250000</td>\n",
       "      <td>78.000000</td>\n",
       "      <td>0.100000</td>\n",
       "      <td>702.333884</td>\n",
       "      <td>2.423205e+05</td>\n",
       "      <td>1.525000</td>\n",
       "      <td>1.550000</td>\n",
       "      <td>0.550500</td>\n",
       "      <td>10.800000</td>\n",
       "    </tr>\n",
       "    <tr>\n",
       "      <th>50%</th>\n",
       "      <td>1.000000</td>\n",
       "      <td>145.500000</td>\n",
       "      <td>3.000000</td>\n",
       "      <td>91.000000</td>\n",
       "      <td>16.500000</td>\n",
       "      <td>41.300000</td>\n",
       "      <td>3.000000</td>\n",
       "      <td>91.500000</td>\n",
       "      <td>92.500000</td>\n",
       "      <td>0.100000</td>\n",
       "      <td>2231.867706</td>\n",
       "      <td>1.894576e+06</td>\n",
       "      <td>3.400000</td>\n",
       "      <td>3.450000</td>\n",
       "      <td>0.701500</td>\n",
       "      <td>12.750000</td>\n",
       "    </tr>\n",
       "    <tr>\n",
       "      <th>75%</th>\n",
       "      <td>1.000000</td>\n",
       "      <td>215.000000</td>\n",
       "      <td>20.500000</td>\n",
       "      <td>96.000000</td>\n",
       "      <td>210.500000</td>\n",
       "      <td>61.200000</td>\n",
       "      <td>25.500000</td>\n",
       "      <td>97.000000</td>\n",
       "      <td>97.000000</td>\n",
       "      <td>0.500000</td>\n",
       "      <td>6311.780768</td>\n",
       "      <td>1.095208e+07</td>\n",
       "      <td>6.500000</td>\n",
       "      <td>6.575000</td>\n",
       "      <td>0.784000</td>\n",
       "      <td>14.675000</td>\n",
       "    </tr>\n",
       "    <tr>\n",
       "      <th>max</th>\n",
       "      <td>1.000000</td>\n",
       "      <td>484.000000</td>\n",
       "      <td>910.000000</td>\n",
       "      <td>99.000000</td>\n",
       "      <td>90387.000000</td>\n",
       "      <td>77.600000</td>\n",
       "      <td>1100.000000</td>\n",
       "      <td>99.000000</td>\n",
       "      <td>99.000000</td>\n",
       "      <td>9.300000</td>\n",
       "      <td>56554.387600</td>\n",
       "      <td>2.581621e+08</td>\n",
       "      <td>26.700000</td>\n",
       "      <td>27.300000</td>\n",
       "      <td>0.937000</td>\n",
       "      <td>20.400000</td>\n",
       "    </tr>\n",
       "  </tbody>\n",
       "</table>\n",
       "</div>"
      ],
      "text/plain": [
       "           Status  Adult Mortality  infant deaths  Hepatitis B       Measles  \\\n",
       "count  130.000000       130.000000     130.000000   130.000000    130.000000   \n",
       "mean     0.853846       158.676923      27.723077    80.653846   1773.315385   \n",
       "std      0.354627        99.484969      96.426702    24.992933   9130.704172   \n",
       "min      0.000000         1.000000       0.000000     6.000000      0.000000   \n",
       "25%      1.000000        79.000000       0.000000    77.250000      0.000000   \n",
       "50%      1.000000       145.500000       3.000000    91.000000     16.500000   \n",
       "75%      1.000000       215.000000      20.500000    96.000000    210.500000   \n",
       "max      1.000000       484.000000     910.000000    99.000000  90387.000000   \n",
       "\n",
       "              BMI  under-five deaths       Polio  Diphtheria    HIV/AIDS  \\\n",
       "count  130.000000         130.000000  130.000000  130.000000  130.000000   \n",
       "mean    40.533077          36.761538   81.123077   82.846154    0.785385   \n",
       "std     21.196345         123.951904   25.435133   23.289370    1.520206   \n",
       "min      2.500000           0.000000    6.000000    6.000000    0.100000   \n",
       "25%     23.325000           1.000000   78.250000   78.000000    0.100000   \n",
       "50%     41.300000           3.000000   91.500000   92.500000    0.100000   \n",
       "75%     61.200000          25.500000   97.000000   97.000000    0.500000   \n",
       "max     77.600000        1100.000000   99.000000   99.000000    9.300000   \n",
       "\n",
       "                GDP    Population  thinness  1-19 years  thinness 5-9 years  \\\n",
       "count    130.000000  1.300000e+02            130.000000          130.000000   \n",
       "mean    5997.928670  1.163121e+07              4.680769            4.780769   \n",
       "std    10101.952401  3.017667e+07              4.380632            4.477144   \n",
       "min       33.681223  2.966000e+03              0.100000            0.100000   \n",
       "25%      702.333884  2.423205e+05              1.525000            1.550000   \n",
       "50%     2231.867706  1.894576e+06              3.400000            3.450000   \n",
       "75%     6311.780768  1.095208e+07              6.500000            6.575000   \n",
       "max    56554.387600  2.581621e+08             26.700000           27.300000   \n",
       "\n",
       "       Income composition of resources   Schooling  \n",
       "count                       130.000000  130.000000  \n",
       "mean                          0.674792   12.746923  \n",
       "std                           0.151216    2.760159  \n",
       "min                           0.347000    5.400000  \n",
       "25%                           0.550500   10.800000  \n",
       "50%                           0.701500   12.750000  \n",
       "75%                           0.784000   14.675000  \n",
       "max                           0.937000   20.400000  "
      ]
     },
     "execution_count": 20,
     "metadata": {},
     "output_type": "execute_result"
    }
   ],
   "source": [
    "X.describe()"
   ]
  },
  {
   "cell_type": "markdown",
   "metadata": {},
   "source": [
    "The features are not standardised. The mean and standard deviation of the numerical features are not 0 and 1, respectively."
   ]
  },
  {
   "cell_type": "code",
   "execution_count": 21,
   "metadata": {},
   "outputs": [],
   "source": [
    "# saving a copy of the dataset for future reference\n",
    "X_copy = X.copy()"
   ]
  },
  {
   "cell_type": "markdown",
   "metadata": {},
   "source": [
    "## 2. Training and testing a machine learning pipeline"
   ]
  },
  {
   "cell_type": "markdown",
   "metadata": {},
   "source": [
    "### Pipeline Containing Linear Regression"
   ]
  },
  {
   "cell_type": "markdown",
   "metadata": {},
   "source": [
    "I am proposing a linear regression model to predict the target feature. The following are the steps to be taken in the linear regression pipeline:  \n",
    "1. Data standardization (scaling)  \n",
    "2. Polynomial transformation of features\n",
    "3. Model training  "
   ]
  },
  {
   "cell_type": "markdown",
   "metadata": {},
   "source": [
    "**Motivate your choices: why the proposed pipeline among the many?**  \n",
    "I am making this choice because linear regession is the easiest and simplest of all the regression models. "
   ]
  },
  {
   "cell_type": "markdown",
   "metadata": {},
   "source": [
    "Before starting with the pipeline, I would like to check if linear regression can be a good model for this dataset. The 5 key assumptions of linear regression are:  \n",
    "\n",
    "1. No multicollinearity of predictors\n",
    "2. Linearity (the relationship between x and y is linear)\n",
    "\n",
    "The other 3 assumptions below would be tested for after fitting the regrssion line and getting the residuals.\n",
    "\n",
    "3. Independence of residuals (no autocorrelation).\n",
    "\n",
    "4. Homoscedasticity.\n",
    "\n",
    "5. Normality of residuals.\n",
    "\n",
    "If one or more of these assumptions are violated, then the results of our linear regression may be unreliable or even misleading. This would mean that linear regression is not a good model for this dataset.\n"
   ]
  },
  {
   "cell_type": "markdown",
   "metadata": {},
   "source": [
    "### Checking for multicollinearity"
   ]
  },
  {
   "cell_type": "markdown",
   "metadata": {},
   "source": [
    "Using pandas inbuilt corr() method"
   ]
  },
  {
   "cell_type": "code",
   "execution_count": 22,
   "metadata": {
    "scrolled": true
   },
   "outputs": [
    {
     "data": {
      "text/html": [
       "<div>\n",
       "<style scoped>\n",
       "    .dataframe tbody tr th:only-of-type {\n",
       "        vertical-align: middle;\n",
       "    }\n",
       "\n",
       "    .dataframe tbody tr th {\n",
       "        vertical-align: top;\n",
       "    }\n",
       "\n",
       "    .dataframe thead th {\n",
       "        text-align: right;\n",
       "    }\n",
       "</style>\n",
       "<table border=\"1\" class=\"dataframe\">\n",
       "  <thead>\n",
       "    <tr style=\"text-align: right;\">\n",
       "      <th></th>\n",
       "      <th>Status</th>\n",
       "      <th>Adult Mortality</th>\n",
       "      <th>infant deaths</th>\n",
       "      <th>Hepatitis B</th>\n",
       "      <th>Measles</th>\n",
       "      <th>BMI</th>\n",
       "      <th>under-five deaths</th>\n",
       "      <th>Polio</th>\n",
       "      <th>Diphtheria</th>\n",
       "      <th>HIV/AIDS</th>\n",
       "      <th>GDP</th>\n",
       "      <th>Population</th>\n",
       "      <th>thinness  1-19 years</th>\n",
       "      <th>thinness 5-9 years</th>\n",
       "      <th>Income composition of resources</th>\n",
       "      <th>Schooling</th>\n",
       "    </tr>\n",
       "  </thead>\n",
       "  <tbody>\n",
       "    <tr>\n",
       "      <th>Status</th>\n",
       "      <td>1.000000</td>\n",
       "      <td>0.311541</td>\n",
       "      <td>0.117142</td>\n",
       "      <td>-0.129949</td>\n",
       "      <td>0.072353</td>\n",
       "      <td>-0.324721</td>\n",
       "      <td>0.120709</td>\n",
       "      <td>-0.224017</td>\n",
       "      <td>-0.220499</td>\n",
       "      <td>0.187251</td>\n",
       "      <td>-0.458099</td>\n",
       "      <td>-0.036725</td>\n",
       "      <td>0.320532</td>\n",
       "      <td>0.325340</td>\n",
       "      <td>-0.538470</td>\n",
       "      <td>-0.536225</td>\n",
       "    </tr>\n",
       "    <tr>\n",
       "      <th>Adult Mortality</th>\n",
       "      <td>0.311541</td>\n",
       "      <td>1.000000</td>\n",
       "      <td>0.154840</td>\n",
       "      <td>-0.134546</td>\n",
       "      <td>0.027975</td>\n",
       "      <td>-0.351283</td>\n",
       "      <td>0.178261</td>\n",
       "      <td>-0.300425</td>\n",
       "      <td>-0.228731</td>\n",
       "      <td>0.632276</td>\n",
       "      <td>-0.314540</td>\n",
       "      <td>0.032840</td>\n",
       "      <td>0.254959</td>\n",
       "      <td>0.259090</td>\n",
       "      <td>-0.587776</td>\n",
       "      <td>-0.466075</td>\n",
       "    </tr>\n",
       "    <tr>\n",
       "      <th>infant deaths</th>\n",
       "      <td>0.117142</td>\n",
       "      <td>0.154840</td>\n",
       "      <td>1.000000</td>\n",
       "      <td>-0.075556</td>\n",
       "      <td>0.824389</td>\n",
       "      <td>-0.208357</td>\n",
       "      <td>0.993963</td>\n",
       "      <td>-0.120151</td>\n",
       "      <td>-0.106575</td>\n",
       "      <td>0.070195</td>\n",
       "      <td>-0.115139</td>\n",
       "      <td>0.269533</td>\n",
       "      <td>0.557387</td>\n",
       "      <td>0.555316</td>\n",
       "      <td>-0.197383</td>\n",
       "      <td>-0.215488</td>\n",
       "    </tr>\n",
       "    <tr>\n",
       "      <th>Hepatitis B</th>\n",
       "      <td>-0.129949</td>\n",
       "      <td>-0.134546</td>\n",
       "      <td>-0.075556</td>\n",
       "      <td>1.000000</td>\n",
       "      <td>0.034322</td>\n",
       "      <td>0.147275</td>\n",
       "      <td>-0.093338</td>\n",
       "      <td>0.503902</td>\n",
       "      <td>0.895829</td>\n",
       "      <td>-0.342678</td>\n",
       "      <td>0.088400</td>\n",
       "      <td>-0.045324</td>\n",
       "      <td>-0.038189</td>\n",
       "      <td>-0.086664</td>\n",
       "      <td>0.279625</td>\n",
       "      <td>0.304968</td>\n",
       "    </tr>\n",
       "    <tr>\n",
       "      <th>Measles</th>\n",
       "      <td>0.072353</td>\n",
       "      <td>0.027975</td>\n",
       "      <td>0.824389</td>\n",
       "      <td>0.034322</td>\n",
       "      <td>1.000000</td>\n",
       "      <td>-0.125854</td>\n",
       "      <td>0.787330</td>\n",
       "      <td>-0.013857</td>\n",
       "      <td>0.019518</td>\n",
       "      <td>-0.040197</td>\n",
       "      <td>-0.068698</td>\n",
       "      <td>0.125615</td>\n",
       "      <td>0.376052</td>\n",
       "      <td>0.367871</td>\n",
       "      <td>-0.057675</td>\n",
       "      <td>-0.062165</td>\n",
       "    </tr>\n",
       "    <tr>\n",
       "      <th>BMI</th>\n",
       "      <td>-0.324721</td>\n",
       "      <td>-0.351283</td>\n",
       "      <td>-0.208357</td>\n",
       "      <td>0.147275</td>\n",
       "      <td>-0.125854</td>\n",
       "      <td>1.000000</td>\n",
       "      <td>-0.218591</td>\n",
       "      <td>0.198913</td>\n",
       "      <td>0.167397</td>\n",
       "      <td>-0.265041</td>\n",
       "      <td>0.387052</td>\n",
       "      <td>0.005963</td>\n",
       "      <td>-0.487245</td>\n",
       "      <td>-0.505187</td>\n",
       "      <td>0.622817</td>\n",
       "      <td>0.612644</td>\n",
       "    </tr>\n",
       "    <tr>\n",
       "      <th>under-five deaths</th>\n",
       "      <td>0.120709</td>\n",
       "      <td>0.178261</td>\n",
       "      <td>0.993963</td>\n",
       "      <td>-0.093338</td>\n",
       "      <td>0.787330</td>\n",
       "      <td>-0.218591</td>\n",
       "      <td>1.000000</td>\n",
       "      <td>-0.138411</td>\n",
       "      <td>-0.126753</td>\n",
       "      <td>0.097053</td>\n",
       "      <td>-0.120094</td>\n",
       "      <td>0.308769</td>\n",
       "      <td>0.547162</td>\n",
       "      <td>0.543834</td>\n",
       "      <td>-0.220828</td>\n",
       "      <td>-0.236128</td>\n",
       "    </tr>\n",
       "    <tr>\n",
       "      <th>Polio</th>\n",
       "      <td>-0.224017</td>\n",
       "      <td>-0.300425</td>\n",
       "      <td>-0.120151</td>\n",
       "      <td>0.503902</td>\n",
       "      <td>-0.013857</td>\n",
       "      <td>0.198913</td>\n",
       "      <td>-0.138411</td>\n",
       "      <td>1.000000</td>\n",
       "      <td>0.577022</td>\n",
       "      <td>-0.375415</td>\n",
       "      <td>0.218366</td>\n",
       "      <td>-0.233270</td>\n",
       "      <td>-0.175525</td>\n",
       "      <td>-0.176887</td>\n",
       "      <td>0.442925</td>\n",
       "      <td>0.387310</td>\n",
       "    </tr>\n",
       "    <tr>\n",
       "      <th>Diphtheria</th>\n",
       "      <td>-0.220499</td>\n",
       "      <td>-0.228731</td>\n",
       "      <td>-0.106575</td>\n",
       "      <td>0.895829</td>\n",
       "      <td>0.019518</td>\n",
       "      <td>0.167397</td>\n",
       "      <td>-0.126753</td>\n",
       "      <td>0.577022</td>\n",
       "      <td>1.000000</td>\n",
       "      <td>-0.406572</td>\n",
       "      <td>0.200140</td>\n",
       "      <td>-0.053164</td>\n",
       "      <td>-0.080184</td>\n",
       "      <td>-0.131753</td>\n",
       "      <td>0.397359</td>\n",
       "      <td>0.388661</td>\n",
       "    </tr>\n",
       "    <tr>\n",
       "      <th>HIV/AIDS</th>\n",
       "      <td>0.187251</td>\n",
       "      <td>0.632276</td>\n",
       "      <td>0.070195</td>\n",
       "      <td>-0.342678</td>\n",
       "      <td>-0.040197</td>\n",
       "      <td>-0.265041</td>\n",
       "      <td>0.097053</td>\n",
       "      <td>-0.375415</td>\n",
       "      <td>-0.406572</td>\n",
       "      <td>1.000000</td>\n",
       "      <td>-0.189537</td>\n",
       "      <td>0.016878</td>\n",
       "      <td>0.169583</td>\n",
       "      <td>0.148512</td>\n",
       "      <td>-0.475022</td>\n",
       "      <td>-0.392309</td>\n",
       "    </tr>\n",
       "    <tr>\n",
       "      <th>GDP</th>\n",
       "      <td>-0.458099</td>\n",
       "      <td>-0.314540</td>\n",
       "      <td>-0.115139</td>\n",
       "      <td>0.088400</td>\n",
       "      <td>-0.068698</td>\n",
       "      <td>0.387052</td>\n",
       "      <td>-0.120094</td>\n",
       "      <td>0.218366</td>\n",
       "      <td>0.200140</td>\n",
       "      <td>-0.189537</td>\n",
       "      <td>1.000000</td>\n",
       "      <td>0.074872</td>\n",
       "      <td>-0.288461</td>\n",
       "      <td>-0.293195</td>\n",
       "      <td>0.565717</td>\n",
       "      <td>0.567679</td>\n",
       "    </tr>\n",
       "    <tr>\n",
       "      <th>Population</th>\n",
       "      <td>-0.036725</td>\n",
       "      <td>0.032840</td>\n",
       "      <td>0.269533</td>\n",
       "      <td>-0.045324</td>\n",
       "      <td>0.125615</td>\n",
       "      <td>0.005963</td>\n",
       "      <td>0.308769</td>\n",
       "      <td>-0.233270</td>\n",
       "      <td>-0.053164</td>\n",
       "      <td>0.016878</td>\n",
       "      <td>0.074872</td>\n",
       "      <td>1.000000</td>\n",
       "      <td>-0.007082</td>\n",
       "      <td>-0.015957</td>\n",
       "      <td>0.032100</td>\n",
       "      <td>0.045243</td>\n",
       "    </tr>\n",
       "    <tr>\n",
       "      <th>thinness  1-19 years</th>\n",
       "      <td>0.320532</td>\n",
       "      <td>0.254959</td>\n",
       "      <td>0.557387</td>\n",
       "      <td>-0.038189</td>\n",
       "      <td>0.376052</td>\n",
       "      <td>-0.487245</td>\n",
       "      <td>0.547162</td>\n",
       "      <td>-0.175525</td>\n",
       "      <td>-0.080184</td>\n",
       "      <td>0.169583</td>\n",
       "      <td>-0.288461</td>\n",
       "      <td>-0.007082</td>\n",
       "      <td>1.000000</td>\n",
       "      <td>0.967874</td>\n",
       "      <td>-0.509310</td>\n",
       "      <td>-0.501377</td>\n",
       "    </tr>\n",
       "    <tr>\n",
       "      <th>thinness 5-9 years</th>\n",
       "      <td>0.325340</td>\n",
       "      <td>0.259090</td>\n",
       "      <td>0.555316</td>\n",
       "      <td>-0.086664</td>\n",
       "      <td>0.367871</td>\n",
       "      <td>-0.505187</td>\n",
       "      <td>0.543834</td>\n",
       "      <td>-0.176887</td>\n",
       "      <td>-0.131753</td>\n",
       "      <td>0.148512</td>\n",
       "      <td>-0.293195</td>\n",
       "      <td>-0.015957</td>\n",
       "      <td>0.967874</td>\n",
       "      <td>1.000000</td>\n",
       "      <td>-0.501407</td>\n",
       "      <td>-0.494571</td>\n",
       "    </tr>\n",
       "    <tr>\n",
       "      <th>Income composition of resources</th>\n",
       "      <td>-0.538470</td>\n",
       "      <td>-0.587776</td>\n",
       "      <td>-0.197383</td>\n",
       "      <td>0.279625</td>\n",
       "      <td>-0.057675</td>\n",
       "      <td>0.622817</td>\n",
       "      <td>-0.220828</td>\n",
       "      <td>0.442925</td>\n",
       "      <td>0.397359</td>\n",
       "      <td>-0.475022</td>\n",
       "      <td>0.565717</td>\n",
       "      <td>0.032100</td>\n",
       "      <td>-0.509310</td>\n",
       "      <td>-0.501407</td>\n",
       "      <td>1.000000</td>\n",
       "      <td>0.920759</td>\n",
       "    </tr>\n",
       "    <tr>\n",
       "      <th>Schooling</th>\n",
       "      <td>-0.536225</td>\n",
       "      <td>-0.466075</td>\n",
       "      <td>-0.215488</td>\n",
       "      <td>0.304968</td>\n",
       "      <td>-0.062165</td>\n",
       "      <td>0.612644</td>\n",
       "      <td>-0.236128</td>\n",
       "      <td>0.387310</td>\n",
       "      <td>0.388661</td>\n",
       "      <td>-0.392309</td>\n",
       "      <td>0.567679</td>\n",
       "      <td>0.045243</td>\n",
       "      <td>-0.501377</td>\n",
       "      <td>-0.494571</td>\n",
       "      <td>0.920759</td>\n",
       "      <td>1.000000</td>\n",
       "    </tr>\n",
       "  </tbody>\n",
       "</table>\n",
       "</div>"
      ],
      "text/plain": [
       "                                   Status  Adult Mortality  infant deaths  \\\n",
       "Status                           1.000000         0.311541       0.117142   \n",
       "Adult Mortality                  0.311541         1.000000       0.154840   \n",
       "infant deaths                    0.117142         0.154840       1.000000   \n",
       "Hepatitis B                     -0.129949        -0.134546      -0.075556   \n",
       "Measles                          0.072353         0.027975       0.824389   \n",
       "BMI                             -0.324721        -0.351283      -0.208357   \n",
       "under-five deaths                0.120709         0.178261       0.993963   \n",
       "Polio                           -0.224017        -0.300425      -0.120151   \n",
       "Diphtheria                      -0.220499        -0.228731      -0.106575   \n",
       "HIV/AIDS                         0.187251         0.632276       0.070195   \n",
       "GDP                             -0.458099        -0.314540      -0.115139   \n",
       "Population                      -0.036725         0.032840       0.269533   \n",
       "thinness  1-19 years             0.320532         0.254959       0.557387   \n",
       "thinness 5-9 years               0.325340         0.259090       0.555316   \n",
       "Income composition of resources -0.538470        -0.587776      -0.197383   \n",
       "Schooling                       -0.536225        -0.466075      -0.215488   \n",
       "\n",
       "                                 Hepatitis B   Measles       BMI  \\\n",
       "Status                             -0.129949  0.072353 -0.324721   \n",
       "Adult Mortality                    -0.134546  0.027975 -0.351283   \n",
       "infant deaths                      -0.075556  0.824389 -0.208357   \n",
       "Hepatitis B                         1.000000  0.034322  0.147275   \n",
       "Measles                             0.034322  1.000000 -0.125854   \n",
       "BMI                                 0.147275 -0.125854  1.000000   \n",
       "under-five deaths                  -0.093338  0.787330 -0.218591   \n",
       "Polio                               0.503902 -0.013857  0.198913   \n",
       "Diphtheria                          0.895829  0.019518  0.167397   \n",
       "HIV/AIDS                           -0.342678 -0.040197 -0.265041   \n",
       "GDP                                 0.088400 -0.068698  0.387052   \n",
       "Population                         -0.045324  0.125615  0.005963   \n",
       "thinness  1-19 years               -0.038189  0.376052 -0.487245   \n",
       "thinness 5-9 years                 -0.086664  0.367871 -0.505187   \n",
       "Income composition of resources     0.279625 -0.057675  0.622817   \n",
       "Schooling                           0.304968 -0.062165  0.612644   \n",
       "\n",
       "                                 under-five deaths     Polio  Diphtheria  \\\n",
       "Status                                    0.120709 -0.224017   -0.220499   \n",
       "Adult Mortality                           0.178261 -0.300425   -0.228731   \n",
       "infant deaths                             0.993963 -0.120151   -0.106575   \n",
       "Hepatitis B                              -0.093338  0.503902    0.895829   \n",
       "Measles                                   0.787330 -0.013857    0.019518   \n",
       "BMI                                      -0.218591  0.198913    0.167397   \n",
       "under-five deaths                         1.000000 -0.138411   -0.126753   \n",
       "Polio                                    -0.138411  1.000000    0.577022   \n",
       "Diphtheria                               -0.126753  0.577022    1.000000   \n",
       "HIV/AIDS                                  0.097053 -0.375415   -0.406572   \n",
       "GDP                                      -0.120094  0.218366    0.200140   \n",
       "Population                                0.308769 -0.233270   -0.053164   \n",
       "thinness  1-19 years                      0.547162 -0.175525   -0.080184   \n",
       "thinness 5-9 years                        0.543834 -0.176887   -0.131753   \n",
       "Income composition of resources          -0.220828  0.442925    0.397359   \n",
       "Schooling                                -0.236128  0.387310    0.388661   \n",
       "\n",
       "                                 HIV/AIDS       GDP  Population  \\\n",
       "Status                           0.187251 -0.458099   -0.036725   \n",
       "Adult Mortality                  0.632276 -0.314540    0.032840   \n",
       "infant deaths                    0.070195 -0.115139    0.269533   \n",
       "Hepatitis B                     -0.342678  0.088400   -0.045324   \n",
       "Measles                         -0.040197 -0.068698    0.125615   \n",
       "BMI                             -0.265041  0.387052    0.005963   \n",
       "under-five deaths                0.097053 -0.120094    0.308769   \n",
       "Polio                           -0.375415  0.218366   -0.233270   \n",
       "Diphtheria                      -0.406572  0.200140   -0.053164   \n",
       "HIV/AIDS                         1.000000 -0.189537    0.016878   \n",
       "GDP                             -0.189537  1.000000    0.074872   \n",
       "Population                       0.016878  0.074872    1.000000   \n",
       "thinness  1-19 years             0.169583 -0.288461   -0.007082   \n",
       "thinness 5-9 years               0.148512 -0.293195   -0.015957   \n",
       "Income composition of resources -0.475022  0.565717    0.032100   \n",
       "Schooling                       -0.392309  0.567679    0.045243   \n",
       "\n",
       "                                 thinness  1-19 years  thinness 5-9 years  \\\n",
       "Status                                       0.320532            0.325340   \n",
       "Adult Mortality                              0.254959            0.259090   \n",
       "infant deaths                                0.557387            0.555316   \n",
       "Hepatitis B                                 -0.038189           -0.086664   \n",
       "Measles                                      0.376052            0.367871   \n",
       "BMI                                         -0.487245           -0.505187   \n",
       "under-five deaths                            0.547162            0.543834   \n",
       "Polio                                       -0.175525           -0.176887   \n",
       "Diphtheria                                  -0.080184           -0.131753   \n",
       "HIV/AIDS                                     0.169583            0.148512   \n",
       "GDP                                         -0.288461           -0.293195   \n",
       "Population                                  -0.007082           -0.015957   \n",
       "thinness  1-19 years                         1.000000            0.967874   \n",
       "thinness 5-9 years                           0.967874            1.000000   \n",
       "Income composition of resources             -0.509310           -0.501407   \n",
       "Schooling                                   -0.501377           -0.494571   \n",
       "\n",
       "                                 Income composition of resources  Schooling  \n",
       "Status                                                 -0.538470  -0.536225  \n",
       "Adult Mortality                                        -0.587776  -0.466075  \n",
       "infant deaths                                          -0.197383  -0.215488  \n",
       "Hepatitis B                                             0.279625   0.304968  \n",
       "Measles                                                -0.057675  -0.062165  \n",
       "BMI                                                     0.622817   0.612644  \n",
       "under-five deaths                                      -0.220828  -0.236128  \n",
       "Polio                                                   0.442925   0.387310  \n",
       "Diphtheria                                              0.397359   0.388661  \n",
       "HIV/AIDS                                               -0.475022  -0.392309  \n",
       "GDP                                                     0.565717   0.567679  \n",
       "Population                                              0.032100   0.045243  \n",
       "thinness  1-19 years                                   -0.509310  -0.501377  \n",
       "thinness 5-9 years                                     -0.501407  -0.494571  \n",
       "Income composition of resources                         1.000000   0.920759  \n",
       "Schooling                                               0.920759   1.000000  "
      ]
     },
     "execution_count": 22,
     "metadata": {},
     "output_type": "execute_result"
    }
   ],
   "source": [
    "X.corr()"
   ]
  },
  {
   "cell_type": "markdown",
   "metadata": {},
   "source": [
    "Also, using a seaborn heatmap "
   ]
  },
  {
   "cell_type": "code",
   "execution_count": 23,
   "metadata": {},
   "outputs": [
    {
     "data": {
      "text/plain": [
       "<AxesSubplot:>"
      ]
     },
     "execution_count": 23,
     "metadata": {},
     "output_type": "execute_result"
    },
    {
     "data": {
      "image/png": "[encoded data removed]",
      "text/plain": [
       "<Figure size 432x288 with 2 Axes>"
      ]
     },
     "metadata": {
      "needs_background": "light"
     },
     "output_type": "display_data"
    }
   ],
   "source": [
    "sns.heatmap(data = X.corr()**2,cmap=\"Blues\", center=0, square=True, linewidths=.5)"
   ]
  },
  {
   "cell_type": "markdown",
   "metadata": {},
   "source": [
    "There is multicollinearity in some of the features. For instance, from the correlation table, it shows that `Measles` and `infant deaths` have a high correlation of 0.824389, `Income composition of resources` and `Schooling` have a high correlation of 0.920759. These are also represented by the darker cells in the heatmap.  \n",
    "The diagonal cells in the heatmap show relationship between a feature and itself. Therefore, it is not among the dark cells being referred to.  "
   ]
  },
  {
   "cell_type": "markdown",
   "metadata": {},
   "source": [
    "We will be using VIF ( Variance Inflation Factor) to select only the features with little or no multicollinearity. Then we can test if they have a linear relationship with the target variable."
   ]
  },
  {
   "cell_type": "markdown",
   "metadata": {},
   "source": [
    "**VIF (Variance Inflation Factor) analysis.**  \n",
    "The `statsmodels` library provides a method `variance_inflation_factor` for this."
   ]
  },
  {
   "cell_type": "code",
   "execution_count": 24,
   "metadata": {},
   "outputs": [],
   "source": [
    "from statsmodels.stats.outliers_influence import variance_inflation_factor\n",
    "import numpy as np"
   ]
  },
  {
   "cell_type": "code",
   "execution_count": 25,
   "metadata": {},
   "outputs": [
    {
     "data": {
      "text/html": [
       "<div>\n",
       "<style scoped>\n",
       "    .dataframe tbody tr th:only-of-type {\n",
       "        vertical-align: middle;\n",
       "    }\n",
       "\n",
       "    .dataframe tbody tr th {\n",
       "        vertical-align: top;\n",
       "    }\n",
       "\n",
       "    .dataframe thead th {\n",
       "        text-align: right;\n",
       "    }\n",
       "</style>\n",
       "<table border=\"1\" class=\"dataframe\">\n",
       "  <thead>\n",
       "    <tr style=\"text-align: right;\">\n",
       "      <th></th>\n",
       "      <th>attribute</th>\n",
       "      <th>VIF</th>\n",
       "    </tr>\n",
       "  </thead>\n",
       "  <tbody>\n",
       "    <tr>\n",
       "      <th>0</th>\n",
       "      <td>Status</td>\n",
       "      <td>7.8</td>\n",
       "    </tr>\n",
       "    <tr>\n",
       "      <th>1</th>\n",
       "      <td>Adult Mortality</td>\n",
       "      <td>7.3</td>\n",
       "    </tr>\n",
       "    <tr>\n",
       "      <th>2</th>\n",
       "      <td>infant deaths</td>\n",
       "      <td>186.5</td>\n",
       "    </tr>\n",
       "    <tr>\n",
       "      <th>3</th>\n",
       "      <td>Hepatitis B</td>\n",
       "      <td>65.1</td>\n",
       "    </tr>\n",
       "    <tr>\n",
       "      <th>4</th>\n",
       "      <td>Measles</td>\n",
       "      <td>5.0</td>\n",
       "    </tr>\n",
       "    <tr>\n",
       "      <th>5</th>\n",
       "      <td>BMI</td>\n",
       "      <td>9.0</td>\n",
       "    </tr>\n",
       "    <tr>\n",
       "      <th>6</th>\n",
       "      <td>under-five deaths</td>\n",
       "      <td>159.1</td>\n",
       "    </tr>\n",
       "    <tr>\n",
       "      <th>7</th>\n",
       "      <td>Polio</td>\n",
       "      <td>20.6</td>\n",
       "    </tr>\n",
       "    <tr>\n",
       "      <th>8</th>\n",
       "      <td>Diphtheria</td>\n",
       "      <td>91.2</td>\n",
       "    </tr>\n",
       "    <tr>\n",
       "      <th>9</th>\n",
       "      <td>HIV/AIDS</td>\n",
       "      <td>2.5</td>\n",
       "    </tr>\n",
       "    <tr>\n",
       "      <th>10</th>\n",
       "      <td>GDP</td>\n",
       "      <td>2.2</td>\n",
       "    </tr>\n",
       "    <tr>\n",
       "      <th>11</th>\n",
       "      <td>Population</td>\n",
       "      <td>1.7</td>\n",
       "    </tr>\n",
       "    <tr>\n",
       "      <th>12</th>\n",
       "      <td>thinness  1-19 years</td>\n",
       "      <td>39.9</td>\n",
       "    </tr>\n",
       "    <tr>\n",
       "      <th>13</th>\n",
       "      <td>thinness 5-9 years</td>\n",
       "      <td>39.9</td>\n",
       "    </tr>\n",
       "    <tr>\n",
       "      <th>14</th>\n",
       "      <td>Income composition of resources</td>\n",
       "      <td>182.5</td>\n",
       "    </tr>\n",
       "    <tr>\n",
       "      <th>15</th>\n",
       "      <td>Schooling</td>\n",
       "      <td>173.5</td>\n",
       "    </tr>\n",
       "  </tbody>\n",
       "</table>\n",
       "</div>"
      ],
      "text/plain": [
       "                          attribute    VIF\n",
       "0                            Status    7.8\n",
       "1                   Adult Mortality    7.3\n",
       "2                     infant deaths  186.5\n",
       "3                       Hepatitis B   65.1\n",
       "4                           Measles    5.0\n",
       "5                               BMI    9.0\n",
       "6                 under-five deaths  159.1\n",
       "7                             Polio   20.6\n",
       "8                        Diphtheria   91.2\n",
       "9                          HIV/AIDS    2.5\n",
       "10                              GDP    2.2\n",
       "11                       Population    1.7\n",
       "12             thinness  1-19 years   39.9\n",
       "13               thinness 5-9 years   39.9\n",
       "14  Income composition of resources  182.5\n",
       "15                        Schooling  173.5"
      ]
     },
     "execution_count": 25,
     "metadata": {},
     "output_type": "execute_result"
    }
   ],
   "source": [
    "# Use numpy to get an array of the column names in the X table\n",
    "column_names_array = np.array(X.columns)\n",
    "\n",
    "# create a new dataframe having the column names and their VIF\n",
    "vif = pd.DataFrame(data = column_names_array, columns=[\"attribute\"])\n",
    "vif['VIF'] = 0\n",
    "for i in range(0, X.shape[1]):\n",
    "    vif.loc[i,'VIF'] = variance_inflation_factor(X.values, i)\n",
    "\n",
    "# round the VIF values to 1 decimal place and print the vif dataframe\n",
    "vif.round(1)"
   ]
  },
  {
   "cell_type": "markdown",
   "metadata": {},
   "source": [
    "With VIF > 5 there is an indication that multicollinearity may be present. With VIF > 10 there is certainly multicollinearity among the variables. We will only be working with the features that have VIF less than 10."
   ]
  },
  {
   "cell_type": "code",
   "execution_count": 26,
   "metadata": {},
   "outputs": [
    {
     "data": {
      "text/html": [
       "<div>\n",
       "<style scoped>\n",
       "    .dataframe tbody tr th:only-of-type {\n",
       "        vertical-align: middle;\n",
       "    }\n",
       "\n",
       "    .dataframe tbody tr th {\n",
       "        vertical-align: top;\n",
       "    }\n",
       "\n",
       "    .dataframe thead th {\n",
       "        text-align: right;\n",
       "    }\n",
       "</style>\n",
       "<table border=\"1\" class=\"dataframe\">\n",
       "  <thead>\n",
       "    <tr style=\"text-align: right;\">\n",
       "      <th></th>\n",
       "      <th>attribute</th>\n",
       "      <th>VIF</th>\n",
       "    </tr>\n",
       "  </thead>\n",
       "  <tbody>\n",
       "    <tr>\n",
       "      <th>0</th>\n",
       "      <td>Status</td>\n",
       "      <td>7.838406</td>\n",
       "    </tr>\n",
       "    <tr>\n",
       "      <th>1</th>\n",
       "      <td>Adult Mortality</td>\n",
       "      <td>7.344876</td>\n",
       "    </tr>\n",
       "    <tr>\n",
       "      <th>2</th>\n",
       "      <td>Measles</td>\n",
       "      <td>5.039583</td>\n",
       "    </tr>\n",
       "    <tr>\n",
       "      <th>3</th>\n",
       "      <td>BMI</td>\n",
       "      <td>8.979786</td>\n",
       "    </tr>\n",
       "    <tr>\n",
       "      <th>4</th>\n",
       "      <td>HIV/AIDS</td>\n",
       "      <td>2.535291</td>\n",
       "    </tr>\n",
       "    <tr>\n",
       "      <th>5</th>\n",
       "      <td>GDP</td>\n",
       "      <td>2.160295</td>\n",
       "    </tr>\n",
       "    <tr>\n",
       "      <th>6</th>\n",
       "      <td>Population</td>\n",
       "      <td>1.701159</td>\n",
       "    </tr>\n",
       "  </tbody>\n",
       "</table>\n",
       "</div>"
      ],
      "text/plain": [
       "         attribute       VIF\n",
       "0           Status  7.838406\n",
       "1  Adult Mortality  7.344876\n",
       "2          Measles  5.039583\n",
       "3              BMI  8.979786\n",
       "4         HIV/AIDS  2.535291\n",
       "5              GDP  2.160295\n",
       "6       Population  1.701159"
      ]
     },
     "execution_count": 26,
     "metadata": {},
     "output_type": "execute_result"
    }
   ],
   "source": [
    "vif_noMulticol = vif[vif.VIF<10]\n",
    "vif_noMulticol.reset_index(drop=True, inplace=True)\n",
    "vif_noMulticol"
   ]
  },
  {
   "cell_type": "code",
   "execution_count": 27,
   "metadata": {},
   "outputs": [],
   "source": [
    "# filter the X dataframe to get only the attributes above\n",
    "X = X.loc[:, vif_noMulticol.attribute]"
   ]
  },
  {
   "cell_type": "code",
   "execution_count": 28,
   "metadata": {},
   "outputs": [
    {
     "data": {
      "text/plain": [
       "(130, 7)"
      ]
     },
     "execution_count": 28,
     "metadata": {},
     "output_type": "execute_result"
    }
   ],
   "source": [
    "X.shape"
   ]
  },
  {
   "cell_type": "markdown",
   "metadata": {},
   "source": [
    "### Checking for linear relationship between the predictors and the target"
   ]
  },
  {
   "cell_type": "markdown",
   "metadata": {},
   "source": [
    "The next step is to use the features selected from the previous section to test for linearity."
   ]
  },
  {
   "cell_type": "code",
   "execution_count": 29,
   "metadata": {},
   "outputs": [],
   "source": [
    "# creata a dataframe for the Life_Expectancy attribute\n",
    "y_df = pd.DataFrame({ 'Life_Expectancy': y})"
   ]
  },
  {
   "cell_type": "markdown",
   "metadata": {},
   "source": [
    "Plot a scatter plot of each predictor against the target, using matplotlib "
   ]
  },
  {
   "cell_type": "code",
   "execution_count": 30,
   "metadata": {},
   "outputs": [
    {
     "data": {
      "image/png": "[encoded data removed]",
      "text/plain": [
       "<Figure size 1080x576 with 8 Axes>"
      ]
     },
     "metadata": {
      "needs_background": "light"
     },
     "output_type": "display_data"
    }
   ],
   "source": [
    "#  create subplots to manage space\n",
    "fig, ((ax1, ax2, ax3, ax4), (ax5, ax6, ax7, ax8)) = plt.subplots(2, 4, figsize=(15, 8))\n",
    "fig.suptitle('Checking for linearity between the predictors and the target', fontsize=16)\n",
    "\n",
    "# Plot each predictor against the target\n",
    "ax1.scatter(X['Status'], y_df['Life_Expectancy'])\n",
    "ax1.set(xlabel='Status', ylabel='Life Expectancy')\n",
    "\n",
    "ax2.scatter(X['Adult Mortality'], y_df['Life_Expectancy'])\n",
    "ax2.set(xlabel='Adult Mortality')\n",
    "\n",
    "ax3.scatter(X['Measles'], y_df['Life_Expectancy'])\n",
    "ax3.set(xlabel='Measles')\n",
    "\n",
    "ax4.scatter(X['BMI'], y_df['Life_Expectancy'])\n",
    "ax4.set(xlabel='BMI')\n",
    "\n",
    "ax5.scatter(X['HIV/AIDS'], y_df['Life_Expectancy'])\n",
    "ax5.set(xlabel='HIV/AIDS', ylabel='Life Expectancy')\n",
    "\n",
    "ax6.scatter(X['GDP'], y_df['Life_Expectancy'])\n",
    "ax6.set(xlabel='GDP')\n",
    "\n",
    "ax7.scatter(X['Population'], y_df['Life_Expectancy'])\n",
    "ax7.set(xlabel='Population')\n",
    "\n",
    "plt.show()"
   ]
  },
  {
   "cell_type": "markdown",
   "metadata": {},
   "source": [
    "The plots above show that there's no linear relationship between almost all the predictors and the target. This means that a linear regression model will not be effective in this case. In the next section, we will introduce random forest as a better regressor."
   ]
  },
  {
   "cell_type": "markdown",
   "metadata": {},
   "source": [
    "## Pipeline Containing Random Forest Regression "
   ]
  },
  {
   "cell_type": "markdown",
   "metadata": {},
   "source": [
    "A pipeline containing random forest regression does not require data standardization. "
   ]
  },
  {
   "cell_type": "markdown",
   "metadata": {},
   "source": [
    "**Motivate your choices: why the proposed pipeline among the many?**  \n",
    "Random forest regression is a preferred model in such a case where there are non-linear relationships between predictors and target, and there is multicollinearity."
   ]
  },
  {
   "cell_type": "markdown",
   "metadata": {},
   "source": [
    "**Explain whether your proposed pipeline standardises the feature data.**  \n",
    "Random forest regression does not require that data be standardised.\n",
    "\n",
    "**Explain whether your proposed pipeline transforms feature data and how**  \n",
    "Random forest regression does not require transform of feature data."
   ]
  },
  {
   "cell_type": "markdown",
   "metadata": {},
   "source": [
    "Ramdom forest regression is not affected by multicollinearity, so we can re-introduce the variables we remove previously."
   ]
  },
  {
   "cell_type": "markdown",
   "metadata": {},
   "source": [
    "**Split your data needs into train and test.**"
   ]
  },
  {
   "cell_type": "code",
   "execution_count": 31,
   "metadata": {},
   "outputs": [],
   "source": [
    "# Using the previously saved copy of X containing all the features\n",
    "X = X_copy"
   ]
  },
  {
   "cell_type": "code",
   "execution_count": 32,
   "metadata": {},
   "outputs": [
    {
     "data": {
      "text/plain": [
       "Index(['Status', 'Adult Mortality', 'infant deaths', 'Hepatitis B', 'Measles',\n",
       "       'BMI', 'under-five deaths', 'Polio', 'Diphtheria', 'HIV/AIDS', 'GDP',\n",
       "       'Population', 'thinness  1-19 years', 'thinness 5-9 years',\n",
       "       'Income composition of resources', 'Schooling'],\n",
       "      dtype='object')"
      ]
     },
     "execution_count": 32,
     "metadata": {},
     "output_type": "execute_result"
    }
   ],
   "source": [
    "X.columns"
   ]
  },
  {
   "cell_type": "markdown",
   "metadata": {},
   "source": [
    "Split data into train-test by using the `scikit-learn` module `train_test_split`."
   ]
  },
  {
   "cell_type": "code",
   "execution_count": 33,
   "metadata": {},
   "outputs": [],
   "source": [
    "from sklearn.model_selection import train_test_split\n",
    "\n",
    "X_train, X_test, y_train, y_test = train_test_split(X, y, test_size=0.2, random_state=10)"
   ]
  },
  {
   "cell_type": "code",
   "execution_count": 34,
   "metadata": {},
   "outputs": [
    {
     "name": "stdout",
     "output_type": "stream",
     "text": [
      "X_train.shape =  (104, 16)\n",
      "X_test.shape =  (26, 16)\n"
     ]
    }
   ],
   "source": [
    "print(\"X_train.shape = \", X_train.shape)\n",
    "print(\"X_test.shape = \", X_test.shape)"
   ]
  },
  {
   "cell_type": "markdown",
   "metadata": {},
   "source": [
    "**Train your supervised learning model.**"
   ]
  },
  {
   "cell_type": "code",
   "execution_count": 35,
   "metadata": {},
   "outputs": [],
   "source": [
    "from sklearn.ensemble import RandomForestRegressor"
   ]
  },
  {
   "cell_type": "code",
   "execution_count": 36,
   "metadata": {},
   "outputs": [
    {
     "data": {
      "text/plain": [
       "RandomForestRegressor()"
      ]
     },
     "execution_count": 36,
     "metadata": {},
     "output_type": "execute_result"
    }
   ],
   "source": [
    "model = RandomForestRegressor()\n",
    "model.fit(X_train, y_train)"
   ]
  },
  {
   "cell_type": "markdown",
   "metadata": {},
   "source": [
    "**Show the accuracy of your model by using appropriate unseen data.**"
   ]
  },
  {
   "cell_type": "markdown",
   "metadata": {},
   "source": [
    "**Model Evaluation (model accuracy):**  \n",
    "Using coeffiecient of determination (R2 score), mean squared error (MSE) and mean absolute error (MAE)"
   ]
  },
  {
   "cell_type": "code",
   "execution_count": 37,
   "metadata": {},
   "outputs": [],
   "source": [
    "from sklearn.metrics import mean_squared_error\n",
    "from sklearn.metrics import mean_absolute_error\n",
    "from sklearn.metrics import r2_score"
   ]
  },
  {
   "cell_type": "markdown",
   "metadata": {},
   "source": [
    "On train data:"
   ]
  },
  {
   "cell_type": "code",
   "execution_count": 38,
   "metadata": {},
   "outputs": [],
   "source": [
    "# Use the model to get the y predictions using the X train data\n",
    "y_train_preds = model.predict(X_train)\n",
    "\n",
    "# use the evaluation metrics to compare the actual values to the predicted values\n",
    "mse = mean_squared_error(y_train, y_train_preds)\n",
    "mae = mean_absolute_error(y_train, y_train_preds)\n",
    "train_r2_score = r2_score(y_train, y_train_preds)"
   ]
  },
  {
   "cell_type": "code",
   "execution_count": 39,
   "metadata": {},
   "outputs": [
    {
     "name": "stdout",
     "output_type": "stream",
     "text": [
      "r2_score =  0.983054472835169\n",
      "MSE =  1.063461913461534\n",
      "MAE =  0.715298076923077\n"
     ]
    }
   ],
   "source": [
    "print(\"r2_score = \", train_r2_score)\n",
    "print(\"MSE = \", mse)\n",
    "print(\"MAE = \", mae)"
   ]
  },
  {
   "cell_type": "markdown",
   "metadata": {},
   "source": [
    "On test data:"
   ]
  },
  {
   "cell_type": "code",
   "execution_count": 40,
   "metadata": {},
   "outputs": [],
   "source": [
    "# Use the model to get the y predictions using the X test data\n",
    "y_test_preds = model.predict(X_test)\n",
    "\n",
    "# use the evaluation metrics to compare the actual values to the predicted values\n",
    "test_mse = mean_squared_error(y_test, y_test_preds)\n",
    "test_mae = mean_absolute_error(y_test, y_test_preds)\n",
    "test_r2_score = r2_score(y_test, y_test_preds)"
   ]
  },
  {
   "cell_type": "code",
   "execution_count": 41,
   "metadata": {},
   "outputs": [
    {
     "name": "stdout",
     "output_type": "stream",
     "text": [
      "r2_score =  0.9113703745925678\n",
      "MSE =  5.856232653846147\n",
      "MAE =  1.7728846153846218\n"
     ]
    }
   ],
   "source": [
    "print(\"r2_score = \", test_r2_score)\n",
    "print(\"MSE = \", test_mse)\n",
    "print(\"MAE = \", test_mae)"
   ]
  },
  {
   "cell_type": "markdown",
   "metadata": {},
   "source": [
    "**Discuss whether you need to compare your accuracy to a baseline.**  "
   ]
  },
  {
   "cell_type": "markdown",
   "metadata": {},
   "source": [
    "To know if an accuracy of 0.98 is good enough, we will be training a dummy regressor using mean as a strategy and use it as a baseline. We will be using sklearn `DummyRegressor`"
   ]
  },
  {
   "cell_type": "code",
   "execution_count": 42,
   "metadata": {},
   "outputs": [
    {
     "data": {
      "text/plain": [
       "DummyRegressor()"
      ]
     },
     "execution_count": 42,
     "metadata": {},
     "output_type": "execute_result"
    }
   ],
   "source": [
    "from sklearn.dummy import DummyRegressor\n",
    "\n",
    "dummy_reg = DummyRegressor(strategy=\"mean\")\n",
    "dummy_reg.fit(X_train, y_train)"
   ]
  },
  {
   "cell_type": "markdown",
   "metadata": {},
   "source": [
    "**Evaluating the dummy regressor using R2 score**\n",
    "\n",
    "The best r2 score is 1 and constant r2 score is 0. A constant model that always predicts the expected value of y, disregarding the input features, would get a R2 score of 0.0"
   ]
  },
  {
   "cell_type": "code",
   "execution_count": 43,
   "metadata": {},
   "outputs": [
    {
     "data": {
      "text/plain": [
       "-0.00424812327598989"
      ]
     },
     "execution_count": 43,
     "metadata": {},
     "output_type": "execute_result"
    }
   ],
   "source": [
    "y_pred_dummy_reg = dummy_reg.predict(X_test)\n",
    "r2_score(y_test, y_pred_dummy_reg)"
   ]
  },
  {
   "cell_type": "markdown",
   "metadata": {},
   "source": [
    "The dummy regressor always predict the r2_ score as approximately 0 for the mean. Therefore, the random forest regressor fits better than the dummy regressor in terms of r2_score. "
   ]
  },
  {
   "cell_type": "markdown",
   "metadata": {},
   "source": [
    "**Discuss whether your final model overfits or underfits.**\n",
    "\n",
    "The R2 score is 0.9 on test data. This score is not far from the R2 score on the train data, 0.98. This implies that the model performs well on test data and there's no problem of underfitting or oveerfitting. It also means that the model has a good bias-variance trade-off."
   ]
  },
  {
   "cell_type": "markdown",
   "metadata": {},
   "source": [
    "## 3. Tuning the proposed machine learning pipeline (*Optional*) "
   ]
  },
  {
   "cell_type": "markdown",
   "metadata": {},
   "source": [
    "**Discuss whether your final feature space is low dimensional or high dimensional.**"
   ]
  },
  {
   "cell_type": "code",
   "execution_count": 44,
   "metadata": {},
   "outputs": [
    {
     "data": {
      "text/plain": [
       "(130, 16)"
      ]
     },
     "execution_count": 44,
     "metadata": {},
     "output_type": "execute_result"
    }
   ],
   "source": [
    "X.shape"
   ]
  },
  {
   "cell_type": "markdown",
   "metadata": {},
   "source": [
    "The final feature space X is low dimensional. There are 16 features which is lower than the number of rows (130). The number of observatons is about 8 times the number of features."
   ]
  },
  {
   "cell_type": "markdown",
   "metadata": {},
   "source": [
    "**Explain whether the proposed pipeline requires any fine-tuned phase.**  \n",
    "\n",
    "The model has a high accuracy and performs well on test data. Therefore, it does not require a fine-tune phase. "
   ]
  },
  {
   "cell_type": "markdown",
   "metadata": {},
   "source": [
    "**Explain whether your data needs to be split into train and test, k-fold, validation set, or what.**\n",
    "\n",
    "For confirmation that the model does not need to be fine-tuned, we will do a k-fold cross validation."
   ]
  },
  {
   "cell_type": "markdown",
   "metadata": {},
   "source": [
    "Using sklearn method `cross_validate`"
   ]
  },
  {
   "cell_type": "code",
   "execution_count": 45,
   "metadata": {},
   "outputs": [],
   "source": [
    "from sklearn.model_selection import cross_validate"
   ]
  },
  {
   "cell_type": "code",
   "execution_count": 46,
   "metadata": {},
   "outputs": [
    {
     "data": {
      "text/plain": [
       "{'fit_time': array([0.14846015, 0.13945103, 0.14028502, 0.14113927, 0.14256597]),\n",
       " 'score_time': array([0.01036692, 0.00997496, 0.01118112, 0.01004076, 0.01078105]),\n",
       " 'test_score': array([0.9319544 , 0.91497657, 0.90927046, 0.91188209, 0.78714087]),\n",
       " 'train_score': array([0.98455987, 0.98288647, 0.98404948, 0.98323219, 0.988804  ])}"
      ]
     },
     "execution_count": 46,
     "metadata": {},
     "output_type": "execute_result"
    }
   ],
   "source": [
    "cv_results = cross_validate(model, X, y, cv=5, # using 5 folds\n",
    "                            scoring=('r2'), # return the r2 score\n",
    "                            return_train_score=True)\n",
    "cv_results"
   ]
  },
  {
   "cell_type": "markdown",
   "metadata": {},
   "source": [
    "Take the mean of the r2 scores for the train and test."
   ]
  },
  {
   "cell_type": "code",
   "execution_count": 47,
   "metadata": {},
   "outputs": [
    {
     "name": "stdout",
     "output_type": "stream",
     "text": [
      "train_r2_score =  0.9847064032252826\n",
      "test_r2_score =  0.8910448773904511\n"
     ]
    }
   ],
   "source": [
    "print(\"train_r2_score = \", cv_results['train_score'].mean())\n",
    "print(\"test_r2_score = \", cv_results['test_score'].mean())"
   ]
  },
  {
   "cell_type": "markdown",
   "metadata": {},
   "source": [
    "These values are almost the same with what was gotten previously."
   ]
  },
  {
   "cell_type": "markdown",
   "metadata": {},
   "source": [
    "**Discuss whether your final tuned model overfits or underfits.**\n",
    "\n",
    "The tuned model performs well on train and test data. Therefore there is no overfitting and underfitting."
   ]
  },
  {
   "cell_type": "markdown",
   "metadata": {},
   "source": [
    "**Compare the accuracy of your final tuned model with the accuracy you got in the previous section (non-tuned model).**  \n",
    "Comparing the train and test scores of the tuned model to that obtained in the previous section, the values are almost equal (when approximated to 2 decimal places). Therefore the cross vallidation was not necessary."
   ]
  },
  {
   "cell_type": "markdown",
   "metadata": {},
   "source": [
    "## 4. Model interpretation (*Optional*)"
   ]
  },
  {
   "cell_type": "markdown",
   "metadata": {},
   "source": [
    "**Explain whether your proposed pipeline is human interpretable.**  \n",
    "\n",
    "Random Forest Regression has a very poor human interpretability. Some machine learning models sacrifice accuracy for interpretability and random forest is one of them."
   ]
  },
  {
   "cell_type": "markdown",
   "metadata": {},
   "source": [
    "**Discuss whether features contain any multicollinearity and if this is a problem for your model interpretability.** \n",
    "\n",
    "As already mentioned in section 2, the features contain multicollinearity. This is not a problem for random forest regression though."
   ]
  },
  {
   "cell_type": "markdown",
   "metadata": {},
   "source": [
    "**Perform any analysis necessary to show which features are most responsible for generating the final predictions.**  \n",
    "\n",
    "Random Forest Regression can be interpreted with feature importance provided by the sklearn regressor. This will also show which features are most responsible for generating the final predictions."
   ]
  },
  {
   "cell_type": "code",
   "execution_count": 48,
   "metadata": {},
   "outputs": [
    {
     "data": {
      "image/png": "[encoded data removed]",
      "text/plain": [
       "<Figure size 864x576 with 1 Axes>"
      ]
     },
     "metadata": {},
     "output_type": "display_data"
    }
   ],
   "source": [
    "# crate a dataframe of features and their importance\n",
    "features = pd.DataFrame({\n",
    "    \"feature\": X.columns, \n",
    "    \"importance\": model.feature_importances_  # get feature importance from the model\n",
    "})\n",
    "\n",
    "# use seaborn to plot a bar chart of the features and their importance\n",
    "sns.set(rc={'figure.figsize':(12,8)})\n",
    "sns.barplot(\n",
    "    x = \"importance\", \n",
    "    y = \"feature\", \n",
    "    data = features,\n",
    "    order = features.sort_values('importance', ascending = False).feature\n",
    ")\n",
    "\n",
    "# use matplotlib to give the chart labels and title\n",
    "plt.title(\"Random Forest Feature Importance\", fontsize=20)\n",
    "plt.xlabel('Importance', fontsize=18)\n",
    "plt.ylabel('Feature', fontsize=16)\n",
    "plt.show()"
   ]
  },
  {
   "cell_type": "markdown",
   "metadata": {},
   "source": [
    "The above plot shows that concerning the features, for random forest, the most important features are `Income composition of resources`, `Adult Mortality`, `HIV/AIDS` and `Schooling`."
   ]
  },
  {
   "cell_type": "markdown",
   "metadata": {},
   "source": [
    "## 5. Discussion: pros/cons and time complexity of the designed pipeline"
   ]
  },
  {
   "cell_type": "markdown",
   "metadata": {},
   "source": [
    "**Summarise the introduced pipeline in your own words.**  \n",
    "The Random Forest pipeline used in this research is summarised as the following steps:\n",
    "1. Test-train split  \n",
    "2. Model training  \n",
    "3. Model evaluation"
   ]
  },
  {
   "cell_type": "markdown",
   "metadata": {},
   "source": [
    "**Introduce the time complexity of the full introduced pipeline.**\n",
    "\n",
    "1. The time complexity of sklearn `train_test_split` function is close to O(n).  \n",
    "\n",
    "2. Complexity of Random forest regression  \n",
    "Where:  \n",
    "n = number of training samples,  \n",
    "m = number of features,  \n",
    "k = number of trees  \n",
    "d = depth of tree\n",
    "\n",
    "Train Time Complexity = O(k * n * m * log(n))  \n",
    "Test Time Complexity = O(m * k)  \n",
    "Space Complexity = O(d * k)  \n",
    "Run-time Complexity = O(d * k)\n"
   ]
  },
  {
   "cell_type": "markdown",
   "metadata": {},
   "source": [
    "**Discuss which are the steps having the highest impact on time execution, especially to handle a larger dataset.**. \n",
    "\n",
    "The cross-validation step has the highest impact on execution time as it contains nested for loops. Also, if the dataset becomes larger and number of features increase, the time complexity also increases.\n",
    "\n",
    "Therefore, the cross validation step should be skipped. Afterall, it does not make any difference to our model."
   ]
  },
  {
   "cell_type": "markdown",
   "metadata": {},
   "source": [
    "**Present its strengths and limitations.**  \n",
    "\n",
    "The following are the limitations of Random Forest Regression\n",
    "1. A large number of trees can make the algorithm too slow and ineffective for real-time predictions.  \n",
    "2. Increased accuracy requires more trees but more trees slow down model.  \n",
    "\n",
    "The following are the strengths\n",
    "1. It is fast and simple  \n",
    "2. It does not require a step on feature standardization  \n",
    "3. The accuracy is not affected by multicollinearity.  "
   ]
  },
  {
   "cell_type": "markdown",
   "metadata": {},
   "source": [
    "**Discuss any possible way to improve it.**\n",
    "\n",
    "Random Forest is considered to be faster than other algorithms. To reduce the computational complexities of random forest, reducing the dimension of the feature data can be very effective.  \n",
    "This implies that if we had used the features gotten from the section on VIF (no multicollinearity), the computational complexities would be lesser than they are currently."
   ]
  },
  {
   "cell_type": "code",
   "execution_count": null,
   "metadata": {},
   "outputs": [],
   "source": []
  }
 ],
 "metadata": {
  "kernelspec": {
   "display_name": "Python 3 (ipykernel)",
   "language": "python",
   "name": "python3"
  },
  "language_info": {
   "codemirror_mode": {
    "name": "ipython",
    "version": 3
   },
   "file_extension": ".py",
   "mimetype": "text/x-python",
   "name": "python",
   "nbconvert_exporter": "python",
   "pygments_lexer": "ipython3",
   "version": "3.7.13"
  }
 },
 "nbformat": 4,
 "nbformat_minor": 4
}
